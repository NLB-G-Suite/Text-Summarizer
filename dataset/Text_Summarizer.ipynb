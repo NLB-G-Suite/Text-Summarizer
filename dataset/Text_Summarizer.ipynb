{
 "cells": [
  {
   "cell_type": "code",
   "execution_count": 1,
   "metadata": {},
   "outputs": [],
   "source": [
    "import tensorflow as tf\n",
    "import numpy as np\n",
    "from load_data import get_index_tables, filter_len, index_words, find_longest_sequence\n",
    "from tensorflow.keras.preprocessing.sequence import pad_sequences\n",
    "import gc"
   ]
  },
  {
   "cell_type": "markdown",
   "metadata": {},
   "source": [
    "## Check tf version"
   ]
  },
  {
   "cell_type": "code",
   "execution_count": 2,
   "metadata": {},
   "outputs": [
    {
     "data": {
      "text/plain": [
       "'2.1.0'"
      ]
     },
     "execution_count": 2,
     "metadata": {},
     "output_type": "execute_result"
    }
   ],
   "source": [
    "tf.__version__"
   ]
  },
  {
   "cell_type": "markdown",
   "metadata": {},
   "source": [
    "## Import Data"
   ]
  },
  {
   "cell_type": "code",
   "execution_count": 3,
   "metadata": {},
   "outputs": [],
   "source": [
    "word2index, index2word = get_index_tables()\n",
    "text, summary = filter_len()"
   ]
  },
  {
   "cell_type": "markdown",
   "metadata": {},
   "source": [
    "## For Debugging"
   ]
  },
  {
   "cell_type": "code",
   "execution_count": 4,
   "metadata": {},
   "outputs": [
    {
     "name": "stdout",
     "output_type": "stream",
     "text": [
      "('the', 0)\n",
      "('to', 1)\n",
      "('of', 2)\n",
      "('a', 3)\n",
      "('and', 4)\n",
      "('in', 5)\n",
      "('that', 6)\n",
      "('for', 7)\n",
      "('is', 8)\n",
      "('on', 9)\n",
      "('said', 10)\n",
      "\n",
      "(0, 'the')\n",
      "(1, 'to')\n",
      "(2, 'of')\n",
      "(3, 'a')\n",
      "(4, 'and')\n",
      "(5, 'in')\n",
      "(6, 'that')\n",
      "(7, 'for')\n",
      "(8, 'is')\n",
      "(9, 'on')\n",
      "(10, 'said')\n"
     ]
    }
   ],
   "source": [
    "for (i,entry) in enumerate(word2index.items()):\n",
    "    if i > 10:\n",
    "        break;\n",
    "    else:\n",
    "        print(entry)\n",
    "\n",
    "print()\n",
    "\n",
    "for (i,entry) in enumerate(index2word.items()):\n",
    "    if i > 10:\n",
    "        break;\n",
    "    else:\n",
    "        print(entry)"
   ]
  },
  {
   "cell_type": "markdown",
   "metadata": {},
   "source": [
    "## Process Text and Summary Data\n",
    "\n",
    "Turn text and summary from lists of words into lists of ints using word2index table"
   ]
  },
  {
   "cell_type": "code",
   "execution_count": 5,
   "metadata": {
    "scrolled": true
   },
   "outputs": [
    {
     "name": "stdout",
     "output_type": "stream",
     "text": [
      "[0, 1386, 4214, 11, 323, 1, 3, 405, 243, 306, 7, 405, 52, 4934, 105, 1528, 7, 3633, 1121, 975, 459, 12, 40, 41, 16, 3, 455, 129, 5, 275, 99, 47, 17, 513, 214, 81, 53, 36, 24, 41, 13, 113, 73, 0, 1386, 9352, 286]\n"
     ]
    }
   ],
   "source": [
    "indexed_text = index_words(text, word2index)\n",
    "indexed_summary = index_words(summary, word2index) \n",
    "\n",
    "del text\n",
    "del summary\n",
    "gc.collect()\n",
    "\n",
    "print(indexed_summary[1])"
   ]
  },
  {
   "cell_type": "markdown",
   "metadata": {},
   "source": [
    "## Pad the Data\n",
    "\n",
    "Zero pad text and summary. First find longest sequence in text and summary then pad each text and summary to respective longest lengths"
   ]
  },
  {
   "cell_type": "code",
   "execution_count": 10,
   "metadata": {},
   "outputs": [
    {
     "name": "stdout",
     "output_type": "stream",
     "text": [
      "(35878, 491)\n",
      "(35878, 78)\n"
     ]
    }
   ],
   "source": [
    "longest_text = find_longest_sequence(indexed_text)\n",
    "longest_summary = find_longest_sequence(indexed_summary)\n",
    "\n",
    "text = pad_sequences(indexed_text, maxlen=longest_text)\n",
    "summary = pad_sequences(indexed_summary, maxlen=longest_summary)\n",
    "\n",
    "print(text.shape)\n",
    "print(summary.shape)"
   ]
  },
  {
   "cell_type": "code",
   "execution_count": null,
   "metadata": {},
   "outputs": [],
   "source": []
  }
 ],
 "metadata": {
  "kernelspec": {
   "display_name": "Python 3",
   "language": "python",
   "name": "python3"
  },
  "language_info": {
   "codemirror_mode": {
    "name": "ipython",
    "version": 3
   },
   "file_extension": ".py",
   "mimetype": "text/x-python",
   "name": "python",
   "nbconvert_exporter": "python",
   "pygments_lexer": "ipython3",
   "version": "3.7.4"
  }
 },
 "nbformat": 4,
 "nbformat_minor": 4
}
