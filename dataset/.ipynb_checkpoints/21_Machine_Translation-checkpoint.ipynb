{
 "cells": [
  {
   "cell_type": "markdown",
   "metadata": {},
   "source": [
    "# TensorFlow Tutorial #21\n",
    "# Machine Translation\n",
    "\n",
    "by [Magnus Erik Hvass Pedersen](http://www.hvass-labs.org/)\n",
    "/ [GitHub](https://github.com/Hvass-Labs/TensorFlow-Tutorials) / [Videos on YouTube](https://www.youtube.com/playlist?list=PL9Hr9sNUjfsmEu1ZniY0XpHSzl5uihcXZ)"
   ]
  },
  {
   "cell_type": "markdown",
   "metadata": {},
   "source": [
    "## Introduction\n",
    "\n",
    "Tutorial #20 showed how to use a Recurrent Neural Network (RNN) to do so-called sentiment analysis on texts of movie reviews. This tutorial will extend that idea to do Machine Translation of human languages by combining two RNN's.\n",
    "\n",
    "You should be familiar with TensorFlow, Keras and the basics of Natural Language Processing, see Tutorials #01, #03-C and #20."
   ]
  },
  {
   "cell_type": "markdown",
   "metadata": {},
   "source": [
    "## Flowchart\n",
    "\n",
    "The following flowchart shows roughly how the neural network is constructed. It is split into two parts: An encoder which maps the source-text to a \"thought vector\" that summarizes the text's contents, which is then input to the second part of the neural network that decodes the \"thought vector\" to the destination-text.\n",
    "\n",
    "The neural network cannot work directly on text so first we need to convert each word to an integer-token using a tokenizer. But the neural network cannot work on integers either, so we use a so-called Embedding Layer to convert each integer-token to a vector of floating-point values. The embedding is trained alongside the rest of the neural network to map words with similar semantic meaning to similar vectors of floating-point values.\n",
    "\n",
    "For example, consider the Danish text \"der var engang\" which is the beginning of any fairytale and literally means \"there was once\" but is commonly translated into English as \"once upon a time\". We first convert the entire data-set to integer-tokens so the text \"der var engang\" becomes [12, 54, 1097]. Each of these integer-tokens is then mapped to an embedding-vector with e.g. 128 elements, so the integer-token 12 could for example become [0.12, -0.56, ..., 1.19] and the integer-token 54 could for example become [0.39, 0.09, ..., -0.12]. These embedding-vectors can then be input to the Recurrent Neural Network, which has 3 GRU-layers. See Tutorial #20 for a more detailed explanation.\n",
    "\n",
    "The last GRU-layer outputs a single vector - the \"thought vector\" that summarizes the contents of the source-text - which is then used as the initial state of the GRU-units in the decoder-part.\n",
    "\n",
    "The destination-text \"once upon a time\" is padded with special markers \"ssss\" and \"eeee\" to indicate its beginning and end, so the sequence of integer-tokens becomes [2, 337, 640, 9, 79, 3]. During training, the decoder will be given this entire sequence as input and  the desired output sequence is [337, 640, 9, 79, 3] which is the same sequence but time-shifted one step. We are trying to teach the decoder to map the \"thought vector\" and the start-token \"ssss\" (integer 2) to the next word \"once\" (integer 337), and then map the word \"once\" to the word \"upon\" (integer 640), and so forth.\n",
    "\n",
    "This flow-chart depicts the main idea but does not show all the necessary details e.g. regarding the loss function which is also somewhat complicated."
   ]
  },
  {
   "cell_type": "markdown",
   "metadata": {},
   "source": [
    "![Flowchart](images/21_machine_translation_flowchart.png)"
   ]
  },
  {
   "cell_type": "markdown",
   "metadata": {},
   "source": [
    "## Imports"
   ]
  },
  {
   "cell_type": "code",
   "execution_count": 1,
   "metadata": {},
   "outputs": [],
   "source": [
    "%matplotlib inline\n",
    "import matplotlib.pyplot as plt\n",
    "import tensorflow as tf\n",
    "import numpy as np\n",
    "import math\n",
    "import os\n",
    "import sys\n",
    "np.set_printoptions(threshold=sys.maxsize)"
   ]
  },
  {
   "cell_type": "markdown",
   "metadata": {},
   "source": [
    "We need to import several things from Keras."
   ]
  },
  {
   "cell_type": "code",
   "execution_count": 2,
   "metadata": {},
   "outputs": [],
   "source": [
    "# from tf.keras.models import Model  # This does not work!\n",
    "from tensorflow.keras.models import Model\n",
    "from tensorflow.keras.layers import Input, Dense, GRU, Embedding, LSTM\n",
    "from tensorflow.keras.optimizers import RMSprop\n",
    "from tensorflow.keras.callbacks import EarlyStopping, ModelCheckpoint, TensorBoard\n",
    "from tensorflow.keras.preprocessing.text import Tokenizer\n",
    "from tensorflow.keras.preprocessing.sequence import pad_sequences\n",
    "from load_data import filter_len\n",
    "\n",
    "physical_devices = tf.config.list_physical_devices('GPU')\n",
    "tf.config.experimental.set_memory_growth(physical_devices[0], enable=True)"
   ]
  },
  {
   "cell_type": "markdown",
   "metadata": {},
   "source": [
    "This was developed using Python 3.6 (Anaconda) and package versions:"
   ]
  },
  {
   "cell_type": "code",
   "execution_count": 3,
   "metadata": {
    "scrolled": false
   },
   "outputs": [
    {
     "data": {
      "text/plain": [
       "'2.1.0'"
      ]
     },
     "execution_count": 3,
     "metadata": {},
     "output_type": "execute_result"
    }
   ],
   "source": [
    "tf.__version__"
   ]
  },
  {
   "cell_type": "code",
   "execution_count": 4,
   "metadata": {
    "scrolled": true
   },
   "outputs": [
    {
     "data": {
      "text/plain": [
       "'2.2.4-tf'"
      ]
     },
     "execution_count": 4,
     "metadata": {},
     "output_type": "execute_result"
    }
   ],
   "source": [
    "tf.keras.__version__"
   ]
  },
  {
   "cell_type": "markdown",
   "metadata": {},
   "source": [
    "## Load Data\n",
    "\n",
    "We will use the Europarl data-set which has sentence-pairs in most European languages. The data was created by the European Union which translates a lot of their communications to the languages of the member-countries of the European Union.\n",
    "\n",
    "http://www.statmt.org/europarl/"
   ]
  },
  {
   "cell_type": "code",
   "execution_count": 5,
   "metadata": {},
   "outputs": [],
   "source": [
    "#import europarl"
   ]
  },
  {
   "cell_type": "markdown",
   "metadata": {},
   "source": [
    "In this tutorial I have used the English-Danish data-set which contains about 2 million sentence-pairs. You can use another language by changing this language-code, see `europarl.py` for a list of available language-codes."
   ]
  },
  {
   "cell_type": "code",
   "execution_count": 6,
   "metadata": {},
   "outputs": [],
   "source": [
    "#language_code='da'"
   ]
  },
  {
   "cell_type": "markdown",
   "metadata": {},
   "source": [
    "In order for the decoder to know when to begin and end a sentence, we need to mark the start and end of each sentence with words that most likely don't occur in the data-set."
   ]
  },
  {
   "cell_type": "code",
   "execution_count": 7,
   "metadata": {},
   "outputs": [],
   "source": [
    "mark_start = 'sssss '\n",
    "mark_end = ' eeeee'"
   ]
  },
  {
   "cell_type": "markdown",
   "metadata": {},
   "source": [
    "You can change the directory for the data-files if you like."
   ]
  },
  {
   "cell_type": "code",
   "execution_count": 8,
   "metadata": {},
   "outputs": [],
   "source": [
    "# data_dir = \"data/europarl/\""
   ]
  },
  {
   "cell_type": "markdown",
   "metadata": {},
   "source": [
    "This will automatically download and extract the data-files if you don't have them already.\n",
    "\n",
    "**WARNING: The file for the English-Danish data-set is about 587 MB!**"
   ]
  },
  {
   "cell_type": "code",
   "execution_count": 9,
   "metadata": {},
   "outputs": [],
   "source": [
    "#europarl.maybe_download_and_extract(language_code=language_code)"
   ]
  },
  {
   "cell_type": "markdown",
   "metadata": {},
   "source": [
    "Load the texts for the source-language, here we use Danish."
   ]
  },
  {
   "cell_type": "code",
   "execution_count": 10,
   "metadata": {},
   "outputs": [],
   "source": [
    "text, summary = filter_len()\n",
    "data_src = text\n",
    "data_dest = summary"
   ]
  },
  {
   "cell_type": "code",
   "execution_count": 11,
   "metadata": {
    "scrolled": true
   },
   "outputs": [],
   "source": [
    "#data_src = europarl.load_data(english=False,\n",
    "                             # language_code=language_code)"
   ]
  },
  {
   "cell_type": "markdown",
   "metadata": {},
   "source": [
    "Load the texts for the destination-language, here we use English."
   ]
  },
  {
   "cell_type": "code",
   "execution_count": 12,
   "metadata": {},
   "outputs": [],
   "source": [
    "#data_dest = europarl.load_data(english=True,\n",
    "                              # language_code=language_code,\n",
    "                              # start=mark_start,\n",
    "                               #end=mark_end)"
   ]
  },
  {
   "cell_type": "markdown",
   "metadata": {},
   "source": [
    "We will build a model to translate from the source language (Danish) to the destination language (English). If you want to make the inverse translation you can merely exchange the source and destination data."
   ]
  },
  {
   "cell_type": "markdown",
   "metadata": {},
   "source": [
    "### Example Data\n",
    "\n",
    "The data is just a list of texts that is ordered so the source and destination texts match. I can confirm that this example is an accurate translation."
   ]
  },
  {
   "cell_type": "code",
   "execution_count": 13,
   "metadata": {},
   "outputs": [],
   "source": [
    "idx = 2"
   ]
  },
  {
   "cell_type": "code",
   "execution_count": 14,
   "metadata": {},
   "outputs": [
    {
     "data": {
      "text/plain": [
       "'kansas city missouri cnn the general services administration already under investigation for lavish spending allowed an employee to telecommute from hawaii even though he is based at the gsas kansas city missouri office a cnn investigation has found it cost more than 24000 for the business development specialist to travel to and from the mainland united states over the past year he is among several hundred gsa virtual workers who also travel to various conferences and their home offices costing the agency millions of dollars over the past three years under the program employees work from home and may live in another state from the region in which theyre actually assigned the kansas city employee who started his job in january 2011 is paid 84440 and works from his home in honolulu a gsa representative confirmed in the past year according to gsa travel records the employee has flown back to the mainland nine times for conferences and meetings four of those trips were to st louis four were to washington with a side trip to cincinnati and one was to san diego the total cost to taxpayers was 24221 jason klumb the gsas regional administrator for kansas city defended the hire the cost of that travel was included in the consideration of his candidacy as an employee as compared with the other applicants klumb said and when factoring all of those in it was determined that he was the best candidate even in light of the cost that would be incurred klumb called the gsas teleworking program a successful program thats going to lead to cost savings for taxpayers but a gsa spokeswoman said we are not going to defend this type of travel and a gsa employee in kansas city who requested anonymity said that hiring someone in hawaii to work for the kansas city region was ludicrous it doesnt make sense the employee said when you consider everything you need when you hire someone it would have been better to look for someone in the kansas city area it would have reduced the cost of travel by at least 70 percent when you look at just the airfare of what it takes to from honolulu to washington dc where a lot of business is done dan tangherlini who was appointed acting gsa administrator this year said the agency was examining the cost of the entire teleworking program i think the most important part for the gsa to think about is make sure we open ourselves up avail ourselves to all the smart people in the country but then also make sure we have a clear business case he said if we have someone who is working in nebraska but reporting to boston there has to be a clear explanation for what value theyre providing and youve got to give me the business case youve got to explain to me why thats a costeffective move for the american people and thats a new standard that were asking everyone at gsa to adhere to the gsa virtual employee program is different from telework programs offered by many private companies including cnns parent company turner broadcasting in which some employees are encouraged to work from home some days of the week partially to reduce traffic congestion the house committee on oversight and government reform requested details about the gsas teleworking program in june that followed disclosures that 95 virtual employees including 12 in supervisory positions spent nearly 750000 in travel costs between october 2010 and june 2011 the american people have a right to know that federal bureaucrats who enjoy the benefits of virtual work are eligible and responsible stewards of the taxpayer dollars that support the program according to a letter from committee chairman rep darrell issa rcalifornia to the gsa the details requested by issa about the gsa program have not been provided to the committee cnn also requested the information more than two months ago through the federal freedom of information act but has been repeatedly told by the gsa that foia staff members have not finished compiling the material the general services administration which has more than 12600 employees and a 263 billion budget is a relatively obscure federal agency that handles government real estate and other nonmilitary procurement congress launched an investigation into the gsa after a scathing inspector generals report issued this year showed lavish spending 823000 at the agencys western regions conference in las vegas in october 2010 the controversy became politically toxic after reports and video clips of the lavish conference were released the revelation prompted taxpayer indignation embarrassed the administration and put a spotlight on wasteful spending by the gsa jeff neely the gsa official who organized the conference resigned as did the agencys administrator martha johnson two of johnsons deputies were fired and eight other employees left the agency tangherlini a former treasury department official took over as acting gsa administrator in addition to the las vegas conference the gsa apparently spent 330000 to relocate an employee from denver to hawaii and probably millions more on other employees over a twoyear period according to a transcript of an interview with a gsa event planner and 84 gsa employees most of them supervisors or other senior staff all subjects of inspector general investigations are still collecting their bonuses totaling more than 1 million in taxpayer money in july a cnn investigation revealed that the gsas kansas city office spent more than 20000 to send employees to cooking classes to build team spirit while the classes do not amount to a significant sum of money in the world of trilliondollar government budgets insiders said it was part of the freespending culture that went on for years at the gsas kansas city regional headquarters gsa spokeswoman betsaida alcantara said in a statement this year that all the agencys practices are under a topdown review cnns sara anwar elizabeth m nunez and tom cohen contributed to this report watch erin burnett weekdays 7pm et for the latest from erin burnett click here'"
      ]
     },
     "execution_count": 14,
     "metadata": {},
     "output_type": "execute_result"
    }
   ],
   "source": [
    "data_src[idx]"
   ]
  },
  {
   "cell_type": "code",
   "execution_count": 15,
   "metadata": {},
   "outputs": [
    {
     "data": {
      "text/plain": [
       "'sssss the employee in agencys kansas city office is among hundreds of virtual workers the employees travel to and from the mainland us last year cost more than 24000 the telecommuting program like all gsa practices is under review eeeee'"
      ]
     },
     "execution_count": 15,
     "metadata": {},
     "output_type": "execute_result"
    }
   ],
   "source": [
    "data_dest[idx]"
   ]
  },
  {
   "cell_type": "markdown",
   "metadata": {},
   "source": [
    "### Error in Data\n",
    "\n",
    "The data-set contains about 2 million sentence-pairs. Some of the data is incorrect. This example appears to be French (or some other weird language I don't understand), although the Danish text is also included."
   ]
  },
  {
   "cell_type": "code",
   "execution_count": 16,
   "metadata": {},
   "outputs": [],
   "source": [
    "idx = 8002"
   ]
  },
  {
   "cell_type": "code",
   "execution_count": 17,
   "metadata": {},
   "outputs": [
    {
     "data": {
      "text/plain": [
       "'los angeles california cnn catherine zetajones is limbering up for her broadway debut catherine zetajones will make her broadway debut in stephen sondheims a little night music the oscarwinning star of chicago will appear alongside angela lansbury in a revival of the stephen sondheim musical a little night music according to an announcement from the shows producers the production is set to open december 13 at the walter kerr theater in new yorks theater district previews begin november 24 zetajones will play the lead role of desiree armfeldt in the production directed by trevor nunn with lansbury cast as her mother madame armfeldt im honored that trevor nunn and stephen sondheim asked me to make my broadway debut in this beautiful production zetajones said in a statement i look forward to starting rehearsal with this extraordinary group of people and working with the incomparable angela lansbury whose work ive long admired lansbury returned the compliment describing zetajones in a statement as a lovely young actress the 83yearold lansbury first appeared on broadway more than 40 years ago and has claimed five tonys during her stage career her most recent tony came this year for her work in the revival of the noel coward play blithe spirit a little night music with music and lyrics by sondheim and book by hugh wheeler debuted on broadway in 1973 its based on the 1955 ingmar bergman film smiles of a summer night the 1973 production ran for 601 performances and won six tonys including best musical the score features send in the clowns one of sondheims bestknown songs as well as a weekend in the country liaisons and every day a little death the producers have not announced ticket prices for the revival tickets go on sale october 17 for the general public'"
      ]
     },
     "execution_count": 17,
     "metadata": {},
     "output_type": "execute_result"
    }
   ],
   "source": [
    "data_src[idx]"
   ]
  },
  {
   "cell_type": "code",
   "execution_count": 18,
   "metadata": {},
   "outputs": [
    {
     "data": {
      "text/plain": [
       "'sssss catherine zetajones angela lansbury costarring in revival of a little night music broadway show will be zetajones first on the main stem lansbury a veteran stephen sondheim show is famous as source of send in the clowns eeeee'"
      ]
     },
     "execution_count": 18,
     "metadata": {},
     "output_type": "execute_result"
    }
   ],
   "source": [
    "data_dest[idx]"
   ]
  },
  {
   "cell_type": "markdown",
   "metadata": {},
   "source": [
    "## Tokenizer\n",
    "\n",
    "Neural Networks cannot work directly on text-data. We use a two-step process to convert text into numbers that can be used in a neural network. The first step is to convert text-words into so-called integer-tokens. The second step is to convert integer-tokens into vectors of floating-point numbers using a so-called embedding-layer. See Tutorial #20 for a more detailed explanation.\n",
    "\n",
    "Set the maximum number of words in our vocabulary. This means that we will only use e.g. the 10000 most frequent words in the data-set. We use the same number for both the source and destination languages, but these could be different."
   ]
  },
  {
   "cell_type": "code",
   "execution_count": 19,
   "metadata": {},
   "outputs": [],
   "source": [
    "num_words = 10000"
   ]
  },
  {
   "cell_type": "markdown",
   "metadata": {},
   "source": [
    "We need a few more functions than provided by Keras' Tokenizer-class so we wrap it."
   ]
  },
  {
   "cell_type": "code",
   "execution_count": 20,
   "metadata": {},
   "outputs": [],
   "source": [
    "class TokenizerWrap(Tokenizer):\n",
    "    \"\"\"Wrap the Tokenizer-class from Keras with more functionality.\"\"\"\n",
    "    \n",
    "    def __init__(self, texts, padding,\n",
    "                 reverse=False, num_words=None):\n",
    "        \"\"\"\n",
    "        :param texts: List of strings. This is the data-set.\n",
    "        :param padding: Either 'post' or 'pre' padding.\n",
    "        :param reverse: Boolean whether to reverse token-lists.\n",
    "        :param num_words: Max number of words to use.\n",
    "        \"\"\"\n",
    "\n",
    "        Tokenizer.__init__(self, num_words=num_words)\n",
    "\n",
    "        # Create the vocabulary from the texts.\n",
    "        self.fit_on_texts(texts)\n",
    "\n",
    "        # Create inverse lookup from integer-tokens to words.\n",
    "        self.index_to_word = dict(zip(self.word_index.values(),\n",
    "                                      self.word_index.keys()))\n",
    "\n",
    "        # Convert all texts to lists of integer-tokens.\n",
    "        # Note that the sequences may have different lengths.\n",
    "        self.tokens = self.texts_to_sequences(texts)\n",
    "\n",
    "        if reverse:\n",
    "            # Reverse the token-sequences.\n",
    "            self.tokens = [list(reversed(x)) for x in self.tokens]\n",
    "        \n",
    "            # Sequences that are too long should now be truncated\n",
    "            # at the beginning, which corresponds to the end of\n",
    "            # the original sequences.\n",
    "            truncating = 'pre'\n",
    "        else:\n",
    "            # Sequences that are too long should be truncated\n",
    "            # at the end.\n",
    "            truncating = 'post'\n",
    "\n",
    "        # The number of integer-tokens in each sequence.\n",
    "        self.num_tokens = [len(x) for x in self.tokens]\n",
    "\n",
    "        # Max number of tokens to use in all sequences.\n",
    "        # We will pad / truncate all sequences to this length.\n",
    "        # This is a compromise so we save a lot of memory and\n",
    "        # only have to truncate maybe 5% of all the sequences.\n",
    "        self.max_tokens = np.mean(self.num_tokens) \\\n",
    "                          + 2 * np.std(self.num_tokens)\n",
    "        self.max_tokens = int(self.max_tokens)\n",
    "\n",
    "        # Pad / truncate all token-sequences to the given length.\n",
    "        # This creates a 2-dim numpy matrix that is easier to use.\n",
    "        self.tokens_padded = pad_sequences(self.tokens,\n",
    "                                           maxlen=self.max_tokens,\n",
    "                                           padding=padding,\n",
    "                                           truncating=truncating)\n",
    "\n",
    "    def token_to_word(self, token):\n",
    "        \"\"\"Lookup a single word from an integer-token.\"\"\"\n",
    "\n",
    "        word = \" \" if token == 0 else self.index_to_word[token]\n",
    "        return word \n",
    "\n",
    "    def tokens_to_string(self, tokens):\n",
    "        \"\"\"Convert a list of integer-tokens to a string.\"\"\"\n",
    "\n",
    "        # Create a list of the individual words.\n",
    "        words = [self.index_to_word[token]\n",
    "                 for token in tokens\n",
    "                 if token != 0]\n",
    "        \n",
    "        # Concatenate the words to a single string\n",
    "        # with space between all the words.\n",
    "        text = \" \".join(words)\n",
    "\n",
    "        return text\n",
    "    \n",
    "    def text_to_tokens(self, text, reverse=False, padding=False):\n",
    "        \"\"\"\n",
    "        Convert a single text-string to tokens with optional\n",
    "        reversal and padding.\n",
    "        \"\"\"\n",
    "\n",
    "        # Convert to tokens. Note that we assume there is only\n",
    "        # a single text-string so we wrap it in a list.\n",
    "        tokens = self.texts_to_sequences([text])\n",
    "        tokens = np.array(tokens)\n",
    "\n",
    "        if reverse:\n",
    "            # Reverse the tokens.\n",
    "            tokens = np.flip(tokens, axis=1)\n",
    "\n",
    "            # Sequences that are too long should now be truncated\n",
    "            # at the beginning, which corresponds to the end of\n",
    "            # the original sequences.\n",
    "            truncating = 'pre'\n",
    "        else:\n",
    "            # Sequences that are too long should be truncated\n",
    "            # at the end.\n",
    "            truncating = 'post'\n",
    "\n",
    "        if padding:\n",
    "            # Pad and truncate sequences to the given length.\n",
    "            tokens = pad_sequences(tokens,\n",
    "                                   maxlen=self.max_tokens,\n",
    "                                   padding='pre',\n",
    "                                   truncating=truncating)\n",
    "\n",
    "        return tokens"
   ]
  },
  {
   "cell_type": "markdown",
   "metadata": {},
   "source": [
    "Now create a tokenizer for the source-language. Note that we pad zeros at the beginning ('pre') of the sequences. We also reverse the sequences of tokens because the research literature suggests that this might improve performance, because the last words seen by the encoder match the first words produced by the decoder, so short-term dependencies are supposedly modelled more accurately."
   ]
  },
  {
   "cell_type": "code",
   "execution_count": 21,
   "metadata": {},
   "outputs": [
    {
     "name": "stdout",
     "output_type": "stream",
     "text": [
      "Wall time: 51 s\n"
     ]
    }
   ],
   "source": [
    "%%time\n",
    "tokenizer_src = TokenizerWrap(texts=data_src,\n",
    "                              padding='pre',\n",
    "                              reverse=False,\n",
    "                              num_words=num_words)"
   ]
  },
  {
   "cell_type": "code",
   "execution_count": null,
   "metadata": {},
   "outputs": [],
   "source": []
  },
  {
   "cell_type": "markdown",
   "metadata": {},
   "source": [
    "Now create the tokenizer for the destination language. We need a tokenizer for both the source- and destination-languages because their vocabularies are different. Note that this tokenizer does not reverse the sequences and it pads zeros at the end ('post') of the arrays."
   ]
  },
  {
   "cell_type": "code",
   "execution_count": 22,
   "metadata": {},
   "outputs": [
    {
     "name": "stdout",
     "output_type": "stream",
     "text": [
      "Wall time: 5.65 s\n"
     ]
    }
   ],
   "source": [
    "%%time\n",
    "tokenizer_dest = TokenizerWrap(texts=data_dest,\n",
    "                               padding='post',\n",
    "                               reverse=False,\n",
    "                               num_words=num_words)"
   ]
  },
  {
   "cell_type": "code",
   "execution_count": 23,
   "metadata": {},
   "outputs": [
    {
     "data": {
      "text/plain": [
       "{1: 'the',\n",
       " 2: 'to',\n",
       " 3: 'sssss',\n",
       " 4: 'eeeee',\n",
       " 5: 'in',\n",
       " 6: 'of',\n",
       " 7: 'a',\n",
       " 8: 'and',\n",
       " 9: 'says',\n",
       " 10: 'is',\n",
       " 11: 'for',\n",
       " 12: 'on',\n",
       " 13: 'was',\n",
       " 14: 'he',\n",
       " 15: 'new',\n",
       " 16: 'with',\n",
       " 17: 'at',\n",
       " 18: 'are',\n",
       " 19: 'has',\n",
       " 20: 'his',\n",
       " 21: 'from',\n",
       " 22: 'will',\n",
       " 23: 'have',\n",
       " 24: 'be',\n",
       " 25: 'as',\n",
       " 26: 'by',\n",
       " 27: 'it',\n",
       " 28: 'an',\n",
       " 29: 'that',\n",
       " 30: 'us',\n",
       " 31: 'say',\n",
       " 32: 'after',\n",
       " 33: 'not',\n",
       " 34: 'been',\n",
       " 35: 'she',\n",
       " 36: 'were',\n",
       " 37: 'her',\n",
       " 38: 'more',\n",
       " 39: 'its',\n",
       " 40: 'people',\n",
       " 41: 'but',\n",
       " 42: 'one',\n",
       " 43: 'police',\n",
       " 44: 'about',\n",
       " 45: 'they',\n",
       " 46: 'two',\n",
       " 47: 'this',\n",
       " 48: 'their',\n",
       " 49: 'first',\n",
       " 50: 'president',\n",
       " 51: 'than',\n",
       " 52: 'over',\n",
       " 53: 'had',\n",
       " 54: 'world',\n",
       " 55: 'up',\n",
       " 56: 'no',\n",
       " 57: 'who',\n",
       " 58: 'out',\n",
       " 59: 'years',\n",
       " 60: 'obama',\n",
       " 61: 'said',\n",
       " 62: 'some',\n",
       " 63: 'can',\n",
       " 64: 'also',\n",
       " 65: 'last',\n",
       " 66: 'killed',\n",
       " 67: 'into',\n",
       " 68: 'could',\n",
       " 69: 'or',\n",
       " 70: 'year',\n",
       " 71: 'government',\n",
       " 72: 'three',\n",
       " 73: 'other',\n",
       " 74: 'state',\n",
       " 75: 'against',\n",
       " 76: 'million',\n",
       " 77: 'official',\n",
       " 78: 'officials',\n",
       " 79: 'found',\n",
       " 80: 'time',\n",
       " 81: 'all',\n",
       " 82: 'would',\n",
       " 83: 'group',\n",
       " 84: 'when',\n",
       " 85: 'since',\n",
       " 86: 'may',\n",
       " 87: 'death',\n",
       " 88: 'we',\n",
       " 89: 'there',\n",
       " 90: 'show',\n",
       " 91: 'now',\n",
       " 92: 'many',\n",
       " 93: 'cnn',\n",
       " 94: 'him',\n",
       " 95: 'former',\n",
       " 96: 'most',\n",
       " 97: 'help',\n",
       " 98: 'if',\n",
       " 99: 'being',\n",
       " 100: 'court',\n",
       " 101: 'man',\n",
       " 102: 'i',\n",
       " 103: 'home',\n",
       " 104: 'family',\n",
       " 105: 'you',\n",
       " 106: 'city',\n",
       " 107: 'military',\n",
       " 108: 'report',\n",
       " 109: 'off',\n",
       " 110: 'should',\n",
       " 111: 'authorities',\n",
       " 112: 'house',\n",
       " 113: 'day',\n",
       " 114: 'died',\n",
       " 115: 'women',\n",
       " 116: 'week',\n",
       " 117: 'before',\n",
       " 118: 'during',\n",
       " 119: 'south',\n",
       " 120: 'still',\n",
       " 121: 'four',\n",
       " 122: 'states',\n",
       " 123: 'made',\n",
       " 124: 'use',\n",
       " 125: 'win',\n",
       " 126: 'get',\n",
       " 127: 'united',\n",
       " 128: 'take',\n",
       " 129: 'children',\n",
       " 130: 'down',\n",
       " 131: 'second',\n",
       " 132: 'calls',\n",
       " 133: 'make',\n",
       " 134: 'like',\n",
       " 135: 'security',\n",
       " 136: 'back',\n",
       " 137: 'attack',\n",
       " 138: 'only',\n",
       " 139: '10',\n",
       " 140: 'top',\n",
       " 141: 'what',\n",
       " 142: 'them',\n",
       " 143: 'life',\n",
       " 144: 'between',\n",
       " 145: 'media',\n",
       " 146: 'north',\n",
       " 147: 'case',\n",
       " 148: 'national',\n",
       " 149: 'law',\n",
       " 150: 'team',\n",
       " 151: 'china',\n",
       " 152: 'war',\n",
       " 153: 'just',\n",
       " 154: 'news',\n",
       " 155: 'minister',\n",
       " 156: 'health',\n",
       " 157: 'american',\n",
       " 158: 'must',\n",
       " 159: 'how',\n",
       " 160: 'set',\n",
       " 161: 'your',\n",
       " 162: 'under',\n",
       " 163: 'part',\n",
       " 164: 'least',\n",
       " 165: 'used',\n",
       " 166: 'work',\n",
       " 167: 'through',\n",
       " 168: 'charges',\n",
       " 169: 'accused',\n",
       " 170: 'open',\n",
       " 171: 'international',\n",
       " 172: 'five',\n",
       " 173: 'do',\n",
       " 174: 'cup',\n",
       " 175: 'which',\n",
       " 176: 'arrested',\n",
       " 177: 'rights',\n",
       " 178: 'public',\n",
       " 179: 'next',\n",
       " 180: 'video',\n",
       " 181: 'school',\n",
       " 182: 'dead',\n",
       " 183: 'days',\n",
       " 184: 'woman',\n",
       " 185: 'reports',\n",
       " 186: 'shows',\n",
       " 187: 'men',\n",
       " 188: 'among',\n",
       " 189: 'place',\n",
       " 190: 'another',\n",
       " 191: 'leader',\n",
       " 192: 'students',\n",
       " 193: 'go',\n",
       " 194: 'company',\n",
       " 195: 'both',\n",
       " 196: 'country',\n",
       " 197: 'sunday',\n",
       " 198: 'monday',\n",
       " 199: 'while',\n",
       " 200: 'others',\n",
       " 201: 'york',\n",
       " 202: '20',\n",
       " 203: 'dont',\n",
       " 204: 'those',\n",
       " 205: 'way',\n",
       " 206: 'john',\n",
       " 207: '1',\n",
       " 208: 'charged',\n",
       " 209: 'shot',\n",
       " 210: 'final',\n",
       " 211: 'violence',\n",
       " 212: 'un',\n",
       " 213: 'fire',\n",
       " 214: 'want',\n",
       " 215: 'white',\n",
       " 216: 'support',\n",
       " 217: 'political',\n",
       " 218: 'friday',\n",
       " 219: 'leaders',\n",
       " 220: 'because',\n",
       " 221: 'high',\n",
       " 222: 'so',\n",
       " 223: 'called',\n",
       " 224: 'our',\n",
       " 225: 'tuesday',\n",
       " 226: 'face',\n",
       " 227: 'month',\n",
       " 228: 'tells',\n",
       " 229: 'end',\n",
       " 230: 'held',\n",
       " 231: 'bill',\n",
       " 232: 'members',\n",
       " 233: 'won',\n",
       " 234: 'change',\n",
       " 235: 'six',\n",
       " 236: 'attacks',\n",
       " 237: 'expected',\n",
       " 238: 'best',\n",
       " 239: 'americans',\n",
       " 240: 'near',\n",
       " 241: 'judge',\n",
       " 242: 'league',\n",
       " 243: 'need',\n",
       " 244: 'around',\n",
       " 245: 'spokesman',\n",
       " 246: 'hit',\n",
       " 247: 'power',\n",
       " 248: 'murder',\n",
       " 249: 'left',\n",
       " 250: 'where',\n",
       " 251: 'months',\n",
       " 252: 'race',\n",
       " 253: 'british',\n",
       " 254: 'third',\n",
       " 255: 'real',\n",
       " 256: 'air',\n",
       " 257: 'chief',\n",
       " 258: 'hospital',\n",
       " 259: 'took',\n",
       " 260: 'party',\n",
       " 261: 'mother',\n",
       " 262: 'season',\n",
       " 263: 'service',\n",
       " 264: 'federal',\n",
       " 265: 'deal',\n",
       " 266: '2',\n",
       " 267: 'victims',\n",
       " 268: 'iraq',\n",
       " 269: 'saturday',\n",
       " 270: 'thursday',\n",
       " 271: 'wants',\n",
       " 272: 'without',\n",
       " 273: 'iran',\n",
       " 274: 'money',\n",
       " 275: 'car',\n",
       " 276: 'film',\n",
       " 277: 'groups',\n",
       " 278: 'wednesday',\n",
       " 279: 'defense',\n",
       " 280: 'gop',\n",
       " 281: 'any',\n",
       " 282: 'attorney',\n",
       " 283: 'see',\n",
       " 284: 'good',\n",
       " 285: 'released',\n",
       " 286: 'move',\n",
       " 287: 'claims',\n",
       " 288: 'suspect',\n",
       " 289: 'including',\n",
       " 290: 'hes',\n",
       " 291: 'game',\n",
       " 292: 'social',\n",
       " 293: 'student',\n",
       " 294: 'wins',\n",
       " 295: 'star',\n",
       " 296: 'prison',\n",
       " 297: 'troops',\n",
       " 298: 'david',\n",
       " 299: 'syria',\n",
       " 300: 'father',\n",
       " 301: 'play',\n",
       " 302: 'michael',\n",
       " 303: 'campaign',\n",
       " 304: 'reported',\n",
       " 305: 'comes',\n",
       " 306: 'al',\n",
       " 307: 'killing',\n",
       " 308: 'call',\n",
       " 309: 'forces',\n",
       " 310: 'injured',\n",
       " 311: 'plan',\n",
       " 312: 'chinese',\n",
       " 313: 'incident',\n",
       " 314: 'plane',\n",
       " 315: 'young',\n",
       " 316: 'did',\n",
       " 317: 'flight',\n",
       " 318: '30',\n",
       " 319: 'come',\n",
       " 320: 'record',\n",
       " 321: 'africa',\n",
       " 322: '2012',\n",
       " 323: 'program',\n",
       " 324: 'korea',\n",
       " 325: 'known',\n",
       " 326: 'human',\n",
       " 327: 'vote',\n",
       " 328: 'big',\n",
       " 329: 'prime',\n",
       " 330: 'system',\n",
       " 331: 'water',\n",
       " 332: 'lead',\n",
       " 333: 'recent',\n",
       " 334: 'clinton',\n",
       " 335: 'told',\n",
       " 336: 'plans',\n",
       " 337: '11',\n",
       " 338: 'major',\n",
       " 339: 'several',\n",
       " 340: 'number',\n",
       " 341: 'such',\n",
       " 342: 'too',\n",
       " 343: 'body',\n",
       " 344: 'long',\n",
       " 345: 'wife',\n",
       " 346: 'issues',\n",
       " 347: 'become',\n",
       " 348: 'key',\n",
       " 349: 'nations',\n",
       " 350: 'drug',\n",
       " 351: 'office',\n",
       " 352: 'care',\n",
       " 353: 'early',\n",
       " 354: 'area',\n",
       " 355: 'much',\n",
       " 356: 'son',\n",
       " 357: 'west',\n",
       " 358: 'tv',\n",
       " 359: 'seen',\n",
       " 360: 'missing',\n",
       " 361: 'foreign',\n",
       " 362: 'facebook',\n",
       " 363: 'find',\n",
       " 364: 'times',\n",
       " 365: 'shooting',\n",
       " 366: 'trying',\n",
       " 367: 'lawyer',\n",
       " 368: 'site',\n",
       " 369: 'trial',\n",
       " 370: 'own',\n",
       " 371: 'beat',\n",
       " 372: 'parents',\n",
       " 373: 'each',\n",
       " 374: 'department',\n",
       " 375: 'nearly',\n",
       " 376: 'food',\n",
       " 377: 'child',\n",
       " 378: 'decision',\n",
       " 379: 'percent',\n",
       " 380: 'investigation',\n",
       " 381: 'taken',\n",
       " 382: 'title',\n",
       " 383: 'french',\n",
       " 384: 'california',\n",
       " 385: 'russia',\n",
       " 386: 'games',\n",
       " 387: '15',\n",
       " 388: 'isis',\n",
       " 389: 'very',\n",
       " 390: 'lost',\n",
       " 391: 'online',\n",
       " 392: 'workers',\n",
       " 393: 'head',\n",
       " 394: 'my',\n",
       " 395: 'night',\n",
       " 396: 'countries',\n",
       " 397: 'past',\n",
       " 398: 'senate',\n",
       " 399: 'right',\n",
       " 400: 'billion',\n",
       " 401: 'history',\n",
       " 402: 'went',\n",
       " 403: 'black',\n",
       " 404: 'behind',\n",
       " 405: 'ago',\n",
       " 406: 'election',\n",
       " 407: 'whether',\n",
       " 408: 'tour',\n",
       " 409: 'issue',\n",
       " 410: 'experts',\n",
       " 411: 'return',\n",
       " 412: 'include',\n",
       " 413: 'crash',\n",
       " 414: 'know',\n",
       " 415: 'faces',\n",
       " 416: 'weeks',\n",
       " 417: 'protesters',\n",
       " 418: 'never',\n",
       " 419: '3',\n",
       " 420: 'oil',\n",
       " 421: 'run',\n",
       " 422: 'away',\n",
       " 423: 'congress',\n",
       " 424: 'guilty',\n",
       " 425: 'fight',\n",
       " 426: 'talks',\n",
       " 427: 'london',\n",
       " 428: 'players',\n",
       " 429: 'until',\n",
       " 430: 'live',\n",
       " 431: 'agency',\n",
       " 432: '12',\n",
       " 433: 'likely',\n",
       " 434: 'club',\n",
       " 435: 'working',\n",
       " 436: 'center',\n",
       " 437: 'fans',\n",
       " 438: 'officer',\n",
       " 439: 'later',\n",
       " 440: 'didnt',\n",
       " 441: 'across',\n",
       " 442: 'came',\n",
       " 443: 'role',\n",
       " 444: 'going',\n",
       " 445: 'israel',\n",
       " 446: 'victory',\n",
       " 447: 'france',\n",
       " 448: 'free',\n",
       " 449: 'event',\n",
       " 450: 'worlds',\n",
       " 451: 'put',\n",
       " 452: 'policy',\n",
       " 453: 'afghanistan',\n",
       " 454: 'opposition',\n",
       " 455: 'control',\n",
       " 456: 'florida',\n",
       " 457: 'washington',\n",
       " 458: 'due',\n",
       " 459: 'march',\n",
       " 460: 'doesnt',\n",
       " 461: 'test',\n",
       " 462: 'local',\n",
       " 463: 'well',\n",
       " 464: 'series',\n",
       " 465: 'nuclear',\n",
       " 466: 'kids',\n",
       " 467: 'action',\n",
       " 468: 'european',\n",
       " 469: 'convicted',\n",
       " 470: 'champion',\n",
       " 471: 'officers',\n",
       " 472: 'russian',\n",
       " 473: 'remains',\n",
       " 474: 'using',\n",
       " 475: 'alleged',\n",
       " 476: 'justice',\n",
       " 477: 'mexico',\n",
       " 478: 'release',\n",
       " 479: 'airport',\n",
       " 480: 'includes',\n",
       " 481: 'pay',\n",
       " 482: 'despite',\n",
       " 483: 'match',\n",
       " 484: 'texas',\n",
       " 485: 'expert',\n",
       " 486: 'hours',\n",
       " 487: 'obamas',\n",
       " 488: 'economic',\n",
       " 489: 'business',\n",
       " 490: 'takes',\n",
       " 491: 'better',\n",
       " 492: 'even',\n",
       " 493: 'deaths',\n",
       " 494: 'force',\n",
       " 495: 'gun',\n",
       " 496: 'medical',\n",
       " 497: 'study',\n",
       " 498: '2010',\n",
       " 499: 'thousands',\n",
       " 500: 'grand',\n",
       " 501: 'keep',\n",
       " 502: 'age',\n",
       " 503: 'search',\n",
       " 504: 'twitter',\n",
       " 505: 'same',\n",
       " 506: 'makes',\n",
       " 507: 'page',\n",
       " 508: 'eight',\n",
       " 509: 'america',\n",
       " 510: 'general',\n",
       " 511: 'protests',\n",
       " 512: 'wont',\n",
       " 513: 'give',\n",
       " 514: 'according',\n",
       " 515: 'points',\n",
       " 516: 'pakistan',\n",
       " 517: 'start',\n",
       " 518: 'african',\n",
       " 519: '2011',\n",
       " 520: 'ban',\n",
       " 521: '100',\n",
       " 522: 'seven',\n",
       " 523: 'army',\n",
       " 524: 'uk',\n",
       " 525: 'region',\n",
       " 526: 'list',\n",
       " 527: 'source',\n",
       " 528: 'border',\n",
       " 529: 'cases',\n",
       " 530: 'users',\n",
       " 531: 'sen',\n",
       " 532: 'earlier',\n",
       " 533: 'got',\n",
       " 534: 'visit',\n",
       " 535: '50',\n",
       " 536: 'arrest',\n",
       " 537: 'then',\n",
       " 538: 'football',\n",
       " 539: 'story',\n",
       " 540: 'aid',\n",
       " 541: 'evidence',\n",
       " 542: 'stop',\n",
       " 543: 'girls',\n",
       " 544: 'university',\n",
       " 545: 'book',\n",
       " 546: 'republicans',\n",
       " 547: 'questions',\n",
       " 548: 'daughter',\n",
       " 549: 'late',\n",
       " 550: '5',\n",
       " 551: 'problems',\n",
       " 552: 'fighting',\n",
       " 553: 'great',\n",
       " 554: 'leave',\n",
       " 555: '13',\n",
       " 556: 'taliban',\n",
       " 557: 'information',\n",
       " 558: 'india',\n",
       " 559: 'daily',\n",
       " 560: 'share',\n",
       " 561: 'residents',\n",
       " 562: 'act',\n",
       " 563: 'possible',\n",
       " 564: 'mayor',\n",
       " 565: 'june',\n",
       " 566: 'paul',\n",
       " 567: 'led',\n",
       " 568: 'taking',\n",
       " 569: 'every',\n",
       " 570: 'january',\n",
       " 571: 'cancer',\n",
       " 572: 'coast',\n",
       " 573: '21',\n",
       " 574: 'helped',\n",
       " 575: 'presidential',\n",
       " 576: 'music',\n",
       " 577: 'think',\n",
       " 578: 'economy',\n",
       " 579: '2008',\n",
       " 580: 'cant',\n",
       " 581: 'girl',\n",
       " 582: 'prosecutors',\n",
       " 583: 'movie',\n",
       " 584: 'champions',\n",
       " 585: 'fbi',\n",
       " 586: 'needs',\n",
       " 587: 'town',\n",
       " 588: 'director',\n",
       " 589: 'old',\n",
       " 590: 'democrats',\n",
       " 591: 'safety',\n",
       " 592: 'travel',\n",
       " 593: 'transcript',\n",
       " 594: 'crisis',\n",
       " 595: 'park',\n",
       " 596: 'soldiers',\n",
       " 597: 'started',\n",
       " 598: 'phone',\n",
       " 599: 'sex',\n",
       " 600: 'weapons',\n",
       " 601: 'secretary',\n",
       " 602: 'jackson',\n",
       " 603: 'does',\n",
       " 604: 'july',\n",
       " 605: '2009',\n",
       " 606: 'japan',\n",
       " 607: 'believe',\n",
       " 608: 'outside',\n",
       " 609: 'mark',\n",
       " 610: 'community',\n",
       " 611: 'future',\n",
       " 612: 'storm',\n",
       " 613: 'red',\n",
       " 614: 'photos',\n",
       " 615: 'space',\n",
       " 616: 'pm',\n",
       " 617: 'king',\n",
       " 618: 'bush',\n",
       " 619: 'cause',\n",
       " 620: 'hotel',\n",
       " 621: 'marriage',\n",
       " 622: 'wanted',\n",
       " 623: '40',\n",
       " 624: 'less',\n",
       " 625: 'these',\n",
       " 626: 'already',\n",
       " 627: '25',\n",
       " 628: 'career',\n",
       " 629: 'far',\n",
       " 630: 'martin',\n",
       " 631: 'legal',\n",
       " 632: '4',\n",
       " 633: 'civil',\n",
       " 634: 'james',\n",
       " 635: 'popular',\n",
       " 636: 'writes',\n",
       " 637: 'global',\n",
       " 638: 'williams',\n",
       " 639: 'jobs',\n",
       " 640: 'boy',\n",
       " 641: 'sent',\n",
       " 642: 'making',\n",
       " 643: 'families',\n",
       " 644: 'involved',\n",
       " 645: 'looking',\n",
       " 646: 'look',\n",
       " 647: 'small',\n",
       " 648: 'island',\n",
       " 649: 'east',\n",
       " 650: 'player',\n",
       " 651: 'often',\n",
       " 652: 'passengers',\n",
       " 653: 'little',\n",
       " 654: 'romney',\n",
       " 655: 'offers',\n",
       " 656: 'played',\n",
       " 657: 'manchester',\n",
       " 658: 'half',\n",
       " 659: 'name',\n",
       " 660: 'remain',\n",
       " 661: 'latest',\n",
       " 662: 'continue',\n",
       " 663: 'job',\n",
       " 664: 'suspects',\n",
       " 665: 'rules',\n",
       " 666: 'coach',\n",
       " 667: 'madrid',\n",
       " 668: '16',\n",
       " 669: 'began',\n",
       " 670: 'qaeda',\n",
       " 671: 'victim',\n",
       " 672: 'ahead',\n",
       " 673: 'recently',\n",
       " 674: 'meet',\n",
       " 675: 'close',\n",
       " 676: 'ruling',\n",
       " 677: 'winner',\n",
       " 678: 'few',\n",
       " 679: 'husband',\n",
       " 680: 'hopes',\n",
       " 681: '18',\n",
       " 682: 'syrian',\n",
       " 683: 'announced',\n",
       " 684: 'september',\n",
       " 685: 'theres',\n",
       " 686: 'april',\n",
       " 687: 'israeli',\n",
       " 688: 'person',\n",
       " 689: 'line',\n",
       " 690: '2013',\n",
       " 691: 'goal',\n",
       " 692: 'abuse',\n",
       " 693: 'internet',\n",
       " 694: 'brown',\n",
       " 695: 'stay',\n",
       " 696: '14',\n",
       " 697: 'korean',\n",
       " 698: 'charge',\n",
       " 699: 'round',\n",
       " 700: 'peace',\n",
       " 701: 'november',\n",
       " 702: 'europe',\n",
       " 703: 'ship',\n",
       " 704: 'project',\n",
       " 705: 'risk',\n",
       " 706: 'industry',\n",
       " 707: 'asked',\n",
       " 708: 'problem',\n",
       " 709: '2014',\n",
       " 710: 'england',\n",
       " 711: 'companies',\n",
       " 712: 'suicide',\n",
       " 713: 'hope',\n",
       " 714: 'claim',\n",
       " 715: 'scores',\n",
       " 716: 'militants',\n",
       " 717: 'homes',\n",
       " 718: 'saying',\n",
       " 719: 'lives',\n",
       " 720: '17',\n",
       " 721: 'why',\n",
       " 722: '8',\n",
       " 723: 'doctors',\n",
       " 724: 'crew',\n",
       " 725: 'capital',\n",
       " 726: 'reach',\n",
       " 727: 'technology',\n",
       " 728: 'debate',\n",
       " 729: 'building',\n",
       " 730: 'miles',\n",
       " 731: 'meeting',\n",
       " 732: 'rebels',\n",
       " 733: 'cut',\n",
       " 734: 'weekend',\n",
       " 735: 'named',\n",
       " 736: 'supreme',\n",
       " 737: 'cnns',\n",
       " 738: 'himself',\n",
       " 739: 'governor',\n",
       " 740: 'crime',\n",
       " 741: 'member',\n",
       " 742: 'love',\n",
       " 743: 'tried',\n",
       " 744: 'side',\n",
       " 745: '2007',\n",
       " 746: 'friends',\n",
       " 747: 'australian',\n",
       " 748: 'given',\n",
       " 749: 'google',\n",
       " 750: 'allegations',\n",
       " 751: 'became',\n",
       " 752: 'once',\n",
       " 753: 'october',\n",
       " 754: 'special',\n",
       " 755: 'education',\n",
       " 756: 'saw',\n",
       " 757: 'hundreds',\n",
       " 758: 'union',\n",
       " 759: 'market',\n",
       " 760: 'immigration',\n",
       " 761: 'couple',\n",
       " 762: 'nation',\n",
       " 763: 'stories',\n",
       " 764: 'clear',\n",
       " 765: 'largest',\n",
       " 766: 'ever',\n",
       " 767: 'de',\n",
       " 768: '6',\n",
       " 769: 'speech',\n",
       " 770: 'again',\n",
       " 771: 'threat',\n",
       " 772: 'wounded',\n",
       " 773: 'caused',\n",
       " 774: 'allegedly',\n",
       " 775: 'draw',\n",
       " 776: 'trip',\n",
       " 777: 'womens',\n",
       " 778: 'treatment',\n",
       " 779: 'question',\n",
       " 780: 'watch',\n",
       " 781: 'english',\n",
       " 782: 'administration',\n",
       " 783: 'yet',\n",
       " 784: 'barcelona',\n",
       " 785: 'december',\n",
       " 786: 'denies',\n",
       " 787: 'san',\n",
       " 788: 'offer',\n",
       " 789: 'apple',\n",
       " 790: 'data',\n",
       " 791: 'fourth',\n",
       " 792: 'barack',\n",
       " 793: 'bomb',\n",
       " 794: 'airlines',\n",
       " 795: 'voters',\n",
       " 796: 'chance',\n",
       " 797: 'board',\n",
       " 798: 'germany',\n",
       " 799: 'strike',\n",
       " 800: 'point',\n",
       " 801: 'appeal',\n",
       " 802: 'suspected',\n",
       " 803: 'almost',\n",
       " 804: 'injuries',\n",
       " 805: 'german',\n",
       " 806: 'gay',\n",
       " 807: 'stars',\n",
       " 808: 'driver',\n",
       " 809: 'george',\n",
       " 810: 'female',\n",
       " 811: 'training',\n",
       " 812: 'democratic',\n",
       " 813: 'hearing',\n",
       " 814: 'street',\n",
       " 815: 'different',\n",
       " 816: 'talk',\n",
       " 817: '22',\n",
       " 818: 'actor',\n",
       " 819: 'doctor',\n",
       " 820: 'might',\n",
       " 821: 'church',\n",
       " 822: 'county',\n",
       " 823: 'heart',\n",
       " 824: 'host',\n",
       " 825: 'sexual',\n",
       " 826: 'olympic',\n",
       " 827: 'hold',\n",
       " 828: 'bring',\n",
       " 829: 'drugs',\n",
       " 830: 'try',\n",
       " 831: 'ebola',\n",
       " 832: 'spent',\n",
       " 833: 'teams',\n",
       " 834: 'gold',\n",
       " 835: 'having',\n",
       " 836: 'muslim',\n",
       " 837: 'events',\n",
       " 838: 'italian',\n",
       " 839: 'gave',\n",
       " 840: 'comments',\n",
       " 841: 'getting',\n",
       " 842: 'defeat',\n",
       " 843: 'focus',\n",
       " 844: 'august',\n",
       " 845: 'response',\n",
       " 846: 'efforts',\n",
       " 847: 'received',\n",
       " 848: 'me',\n",
       " 849: 'republican',\n",
       " 850: 'critics',\n",
       " 851: 'elections',\n",
       " 852: 'winning',\n",
       " 853: 'middle',\n",
       " 854: 'gas',\n",
       " 855: 'nine',\n",
       " 856: 'afghan',\n",
       " 857: 'chelsea',\n",
       " 858: '60',\n",
       " 859: 'protest',\n",
       " 860: 'weather',\n",
       " 861: 'robert',\n",
       " 862: 'failed',\n",
       " 863: 'finds',\n",
       " 864: 'chinas',\n",
       " 865: 'sentenced',\n",
       " 866: 'access',\n",
       " 867: 'success',\n",
       " 868: 'hard',\n",
       " 869: 'committee',\n",
       " 870: 'energy',\n",
       " 871: 'bank',\n",
       " 872: 'research',\n",
       " 873: 'investigators',\n",
       " 874: 'areas',\n",
       " 875: 'author',\n",
       " 876: 'following',\n",
       " 877: 'bad',\n",
       " 878: 'ukraine',\n",
       " 879: 'february',\n",
       " 880: 'strong',\n",
       " 881: 'biggest',\n",
       " 882: 'tournament',\n",
       " 883: 'bodies',\n",
       " 884: 'ministry',\n",
       " 885: 'emergency',\n",
       " 886: 'rape',\n",
       " 887: 'web',\n",
       " 888: 'jury',\n",
       " 889: 'private',\n",
       " 890: 'schools',\n",
       " 891: 'asks',\n",
       " 892: 'terror',\n",
       " 893: 'important',\n",
       " 894: 'worked',\n",
       " 895: '7',\n",
       " 896: 'northern',\n",
       " 897: 'enough',\n",
       " 898: 'mission',\n",
       " 899: 'fired',\n",
       " 900: 'assault',\n",
       " 901: 'laws',\n",
       " 902: 'living',\n",
       " 903: 'countrys',\n",
       " 904: 'australia',\n",
       " 905: 'kill',\n",
       " 906: 'tax',\n",
       " 907: 'southern',\n",
       " 908: 'central',\n",
       " 909: 'based',\n",
       " 910: 'met',\n",
       " 911: 'singer',\n",
       " 912: 'current',\n",
       " 913: 'full',\n",
       " 914: 'camp',\n",
       " 915: 'candidates',\n",
       " 916: 'sentence',\n",
       " 917: 'gives',\n",
       " 918: 'baby',\n",
       " 919: 'fear',\n",
       " 920: 'operation',\n",
       " 921: 'woods',\n",
       " 922: 'tell',\n",
       " 923: 'ground',\n",
       " 924: 'spain',\n",
       " 925: 'cost',\n",
       " 926: 'running',\n",
       " 927: 'process',\n",
       " 928: 'spanish',\n",
       " 929: 'parts',\n",
       " 930: 'indian',\n",
       " 931: 'shes',\n",
       " 932: 'thought',\n",
       " 933: 'large',\n",
       " 934: 'art',\n",
       " 935: 'jail',\n",
       " 936: 'curriculum',\n",
       " 937: 'message',\n",
       " 938: 'comment',\n",
       " 939: 'growing',\n",
       " 940: 'college',\n",
       " 941: 'rep',\n",
       " 942: 'brazil',\n",
       " 943: 'suffered',\n",
       " 944: 'hong',\n",
       " 945: 'reportedly',\n",
       " 946: 'battle',\n",
       " 947: 'sign',\n",
       " 948: 'opening',\n",
       " 949: 'reform',\n",
       " 950: 'order',\n",
       " 951: 'turned',\n",
       " 952: 'believes',\n",
       " 953: 'changes',\n",
       " 954: 'illegal',\n",
       " 955: 'potential',\n",
       " 956: 'friend',\n",
       " 957: 'stage',\n",
       " 958: 'statement',\n",
       " 959: 'allow',\n",
       " 960: 'disease',\n",
       " 961: 'playing',\n",
       " 962: 'sets',\n",
       " 963: 'together',\n",
       " 964: 'personal',\n",
       " 965: 'leading',\n",
       " 966: 'los',\n",
       " 967: 'dr',\n",
       " 968: 'ceo',\n",
       " 969: 'am',\n",
       " 970: 'create',\n",
       " 971: 'injury',\n",
       " 972: 'gets',\n",
       " 973: 'reading',\n",
       " 974: 'pilot',\n",
       " 975: 'believed',\n",
       " 976: 'serious',\n",
       " 977: 'italy',\n",
       " 978: '19',\n",
       " 979: 'cities',\n",
       " 980: 'train',\n",
       " 981: 'scheduled',\n",
       " 982: 'concerns',\n",
       " 983: 'supporters',\n",
       " 984: 'tests',\n",
       " 985: 'poor',\n",
       " 986: 'station',\n",
       " 987: 'prosecutor',\n",
       " 988: 'goals',\n",
       " 989: 'sites',\n",
       " 990: 'gov',\n",
       " 991: 'needed',\n",
       " 992: 'patients',\n",
       " 993: 'occurred',\n",
       " 994: 'captain',\n",
       " 995: 'pope',\n",
       " 996: 'guard',\n",
       " 997: 'happened',\n",
       " 998: 'let',\n",
       " 999: 'criminal',\n",
       " 1000: 'step',\n",
       " ...}"
      ]
     },
     "execution_count": 23,
     "metadata": {},
     "output_type": "execute_result"
    }
   ],
   "source": [
    "tokenizer_dest.index_to_word"
   ]
  },
  {
   "cell_type": "markdown",
   "metadata": {},
   "source": [
    "Define convenience variables for the padded token sequences. These are just 2-dimensional numpy arrays of integer-tokens.\n",
    "\n",
    "Note that the sequence-lengths are different for the source and destination languages. This is because texts with the same meaning may have different numbers of words in the two languages. \n",
    "\n",
    "Furthermore, we have made a compromise when tokenizing the original texts in order to save a lot of memory. This means we only truncate about 5% of the texts."
   ]
  },
  {
   "cell_type": "code",
   "execution_count": 24,
   "metadata": {},
   "outputs": [
    {
     "name": "stdout",
     "output_type": "stream",
     "text": [
      "(91471, 1224)\n",
      "(91471, 58)\n"
     ]
    }
   ],
   "source": [
    "tokens_src = tokenizer_src.tokens_padded\n",
    "tokens_dest = tokenizer_dest.tokens_padded\n",
    "print(tokens_src.shape)\n",
    "print(tokens_dest.shape)"
   ]
  },
  {
   "cell_type": "markdown",
   "metadata": {},
   "source": [
    "This is the integer-token used to mark the beginning of a text in the destination-language."
   ]
  },
  {
   "cell_type": "code",
   "execution_count": 25,
   "metadata": {},
   "outputs": [
    {
     "data": {
      "text/plain": [
       "3"
      ]
     },
     "execution_count": 25,
     "metadata": {},
     "output_type": "execute_result"
    }
   ],
   "source": [
    "token_start = tokenizer_dest.word_index[mark_start.strip()]\n",
    "token_start"
   ]
  },
  {
   "cell_type": "markdown",
   "metadata": {},
   "source": [
    "This is the integer-token used to mark the end of a text in the destination-language."
   ]
  },
  {
   "cell_type": "code",
   "execution_count": 26,
   "metadata": {},
   "outputs": [
    {
     "data": {
      "text/plain": [
       "4"
      ]
     },
     "execution_count": 26,
     "metadata": {},
     "output_type": "execute_result"
    }
   ],
   "source": [
    "token_end = tokenizer_dest.word_index[mark_end.strip()]\n",
    "token_end"
   ]
  },
  {
   "cell_type": "markdown",
   "metadata": {},
   "source": [
    "### Example of Token Sequences"
   ]
  },
  {
   "cell_type": "markdown",
   "metadata": {},
   "source": [
    "This is the output of the tokenizer. Note how it is padded with zeros at the beginning (pre-padding)."
   ]
  },
  {
   "cell_type": "code",
   "execution_count": 27,
   "metadata": {},
   "outputs": [],
   "source": [
    "idx = 1"
   ]
  },
  {
   "cell_type": "code",
   "execution_count": 28,
   "metadata": {},
   "outputs": [
    {
     "data": {
      "text/plain": [
       "'kansas city missouri cnn the general services administration already under investigation for spending allowed an employee to from hawaii even though he is based at the kansas city missouri office a cnn investigation has found it cost more than for the business development specialist to travel to and from the mainland united states over the past year he is among several hundred virtual workers who also travel to various conferences and their home offices the agency millions of dollars over the past three years under the program employees work from home and may live in another state from the region in which theyre actually assigned the kansas city employee who started his job in january 2011 is paid and works from his home in a representative confirmed in the past year according to travel records the employee has flown back to the mainland nine times for conferences and meetings four of those trips were to st louis four were to washington with a side trip to cincinnati and one was to san diego the total cost to taxpayers was jason the regional administrator for kansas city defended the hire the cost of that travel was included in the consideration of his candidacy as an employee as compared with the other applicants said and when all of those in it was determined that he was the best candidate even in light of the cost that would be called the program a successful program thats going to lead to cost savings for taxpayers but a spokeswoman said we are not going to defend this type of travel and a employee in kansas city who requested anonymity said that hiring someone in hawaii to work for the kansas city region was it doesnt make sense the employee said when you consider everything you need when you hire someone it would have been better to look for someone in the kansas city area it would have reduced the cost of travel by at least 70 percent when you look at just the of what it takes to from to washington dc where a lot of business is done dan who was appointed acting administrator this year said the agency was examining the cost of the entire program i think the most important part for the to think about is make sure we open ourselves up ourselves to all the smart people in the country but then also make sure we have a clear business case he said if we have someone who is working in nebraska but reporting to boston there has to be a clear explanation for what value theyre providing and youve got to give me the business case youve got to explain to me why thats a move for the american people and thats a new standard that were asking everyone at to to the virtual employee program is different from programs offered by many private companies including cnns parent company turner broadcasting in which some employees are encouraged to work from home some days of the week partially to reduce traffic the house committee on oversight and government reform requested details about the program in june that followed that 95 virtual employees including 12 in positions spent nearly in travel costs between october 2010 and june 2011 the american people have a right to know that federal who enjoy the benefits of virtual work are eligible and responsible of the taxpayer dollars that support the program according to a letter from committee chairman rep issa to the the details requested by issa about the program have not been provided to the committee cnn also requested the information more than two months ago through the federal freedom of information act but has been repeatedly told by the that staff members have not finished the material the general services administration which has more than employees and a billion budget is a relatively federal agency that handles government real estate and other congress launched an investigation into the after a inspector generals report issued this year showed spending at the agencys western regions conference in las vegas in october 2010 the controversy became politically toxic after reports and video clips of the conference were released the revelation prompted taxpayer embarrassed the administration and put a spotlight on spending by the jeff the official who organized the conference resigned as did the agencys administrator martha johnson two of johnsons deputies were fired and eight other employees left the agency a former treasury department official took over as acting administrator in addition to the las vegas conference the apparently spent to an employee from denver to hawaii and probably millions more on other employees over a twoyear period according to a transcript of an interview with a event and 84 employees most of them or other senior staff all subjects of inspector general investigations are still collecting their bonuses more than 1 million in taxpayer money in july a cnn investigation revealed that the kansas city office spent more than 20000 to send employees to cooking classes to build team spirit while the classes do not amount to a significant sum of money in the world of government budgets said it was part of the culture that went on for years at the kansas city regional headquarters spokeswoman said in a statement this year that all the agencys practices are under a review cnns sara anwar elizabeth m and tom cohen contributed to this report watch erin et for the latest from erin click here'"
      ]
     },
     "execution_count": 28,
     "metadata": {},
     "output_type": "execute_result"
    }
   ],
   "source": [
    "tokenizer_src.tokens_to_string(tokens_src[2])"
   ]
  },
  {
   "cell_type": "markdown",
   "metadata": {},
   "source": [
    "We can reconstruct the original text by converting each integer-token back to its corresponding word:"
   ]
  },
  {
   "cell_type": "code",
   "execution_count": 29,
   "metadata": {},
   "outputs": [
    {
     "data": {
      "text/plain": [
       "'cnn bolt rounded off the world championships sunday by claiming his third gold in moscow as he jamaica to victory in the mens relay the fastest man in the world charged clear of united states rival justin as the of carter and bolt won in seconds the us finished second in seconds with canada taking the bronze after britain were for a the 26yearold bolt has now collected eight gold medals at world championships the record held by american trio carl lewis michael johnson and not to mention the small matter of six olympic titles the relay triumph followed individual successes in the 100 and 200 meters in the russian capital im proud of myself and ill continue to work to dominate for as long as possible bolt said having previously expressed his intention to carry on until the 2016 rio olympics victory was never seriously in doubt once he got the safely in hand from while and the united states third leg runner had problems out of his lane as he struggled to get full control of their and was never able to get on terms with bolt earlier women their dominance in the sprint events by winning the relay gold by who like bolt was completing a triple their recorded a championship record of seconds well clear of france who crossed the line in second place in seconds defending champions the united states were initially back in the bronze medal position after losing time on the second between anderson and english gardner but promoted to silver when france were subsequently for an illegal the british who were initially fourth were promoted to the bronze which their mens team like bolt aged 26 became the first woman to achieve three in the and the relay in other final action on the last day of the championships frances became the third man to leap over in the triple jump the mark by four to take gold germanys christina finally took gold at global level in the womens after five previous while kenyas easily won a tactical mens final compatriot sum was a surprise winner of the womens final for golden glory brought the championship to a finale but while the hosts topped the medal table from the united states there was criticism of the poor in the stadium there was further concern when their pole gold made controversial remarks in support of russias new laws which make the of sexual relations among minors a criminal offense she later attempted to clarify her comments but there were renewed calls by gay rights groups for a boycott of the 2014 winter games in sochi the next major sports event in russia'"
      ]
     },
     "execution_count": 29,
     "metadata": {},
     "output_type": "execute_result"
    }
   ],
   "source": [
    "tokenizer_src.tokens_to_string(tokens_src[idx])"
   ]
  },
  {
   "cell_type": "markdown",
   "metadata": {},
   "source": [
    "This text is actually reversed, as can be seen when compared to the original text from the data-set:"
   ]
  },
  {
   "cell_type": "code",
   "execution_count": 30,
   "metadata": {},
   "outputs": [
    {
     "data": {
      "text/plain": [
       "'cnn usain bolt rounded off the world championships sunday by claiming his third gold in moscow as he anchored jamaica to victory in the mens 4x100m relay the fastest man in the world charged clear of united states rival justin gatlin as the jamaican quartet of nesta carter kemar baileycole nickel ashmeade and bolt won in 3736 seconds the us finished second in 3756 seconds with canada taking the bronze after britain were disqualified for a faulty handover the 26yearold bolt has now collected eight gold medals at world championships equaling the record held by american trio carl lewis michael johnson and allyson felix not to mention the small matter of six olympic titles the relay triumph followed individual successes in the 100 and 200 meters in the russian capital im proud of myself and ill continue to work to dominate for as long as possible bolt said having previously expressed his intention to carry on until the 2016 rio olympics victory was never seriously in doubt once he got the baton safely in hand from ashmeade while gatlin and the united states third leg runner rakieem salaam had problems gatlin strayed out of his lane as he struggled to get full control of their baton and was never able to get on terms with bolt earlier jamaicas women underlined their dominance in the sprint events by winning the 4x100m relay gold anchored by shellyann fraserpryce who like bolt was completing a triple their quartet recorded a championship record of 4129 seconds well clear of france who crossed the line in second place in 4273 seconds defending champions the united states were initially back in the bronze medal position after losing time on the second handover between alexandria anderson and english gardner but promoted to silver when france were subsequently disqualified for an illegal handover the british quartet who were initially fourth were promoted to the bronze which eluded their mens team fraserpryce like bolt aged 26 became the first woman to achieve three golds in the 100200 and the relay in other final action on the last day of the championships frances teddy tamgho became the third man to leap over 18m in the triple jump exceeding the mark by four centimeters to take gold germanys christina obergfoll finally took gold at global level in the womens javelin after five previous silvers while kenyas asbel kiprop easily won a tactical mens 1500m final kiprops compatriot eunice jepkoech sum was a surprise winner of the womens 800m bolts final dash for golden glory brought the eightday championship to a rousing finale but while the hosts topped the medal table from the united states there was criticism of the poor attendances in the luzhniki stadium there was further concern when their pole vault gold medalist yelena isinbayeva made controversial remarks in support of russias new laws which make the propagandizing of nontraditional sexual relations among minors a criminal offense she later attempted to clarify her comments but there were renewed calls by gay rights groups for a boycott of the 2014 winter games in sochi the next major sports event in russia'"
      ]
     },
     "execution_count": 30,
     "metadata": {},
     "output_type": "execute_result"
    }
   ],
   "source": [
    "data_src[idx]"
   ]
  },
  {
   "cell_type": "markdown",
   "metadata": {},
   "source": [
    "This is the sequence of integer-tokens for the corresponding text in the destination-language. Note how it is padded with zeros at the end (post-padding)."
   ]
  },
  {
   "cell_type": "code",
   "execution_count": 31,
   "metadata": {},
   "outputs": [
    {
     "data": {
      "text/plain": [
       "array([   3, 6533, 4737,  294,  254,  834,    6,   54, 1164, 6698,    2,\n",
       "       6251,  446, 3917,  834,   17,    1, 2607,   11, 4737, 6698, 1532,\n",
       "         55,    5,  777, 6251,    4,    0,    0,    0,    0,    0,    0,\n",
       "          0,    0,    0,    0,    0,    0,    0,    0,    0,    0,    0,\n",
       "          0,    0,    0,    0,    0,    0,    0,    0,    0,    0,    0,\n",
       "          0,    0,    0])"
      ]
     },
     "execution_count": 31,
     "metadata": {},
     "output_type": "execute_result"
    }
   ],
   "source": [
    "tokens_dest[idx]"
   ]
  },
  {
   "cell_type": "markdown",
   "metadata": {},
   "source": [
    "We can reconstruct the original text by converting each integer-token back to its corresponding word:"
   ]
  },
  {
   "cell_type": "code",
   "execution_count": 32,
   "metadata": {},
   "outputs": [
    {
     "data": {
      "text/plain": [
       "'sssss usain bolt wins third gold of world championship jamaica to relay victory eighth gold at the championships for bolt jamaica double up in womens relay eeeee'"
      ]
     },
     "execution_count": 32,
     "metadata": {},
     "output_type": "execute_result"
    }
   ],
   "source": [
    "tokenizer_dest.tokens_to_string(tokens_dest[idx])"
   ]
  },
  {
   "cell_type": "markdown",
   "metadata": {},
   "source": [
    "Compare this to the original text from the data-set, which is almost identical except for punctuation marks and a few words such as \"dreaded millennium bug\". This is because we only use a vocabulary of the 10000 most frequent words in the data-set and those 3 words were apparently not used frequently enough to be included in the vocabulary, so they are merely skipped."
   ]
  },
  {
   "cell_type": "code",
   "execution_count": 33,
   "metadata": {
    "scrolled": true
   },
   "outputs": [
    {
     "data": {
      "text/plain": [
       "'sssss usain bolt wins third gold of world championship anchors jamaica to 4x100m relay victory eighth gold at the championships for bolt jamaica double up in womens 4x100m relay eeeee'"
      ]
     },
     "execution_count": 33,
     "metadata": {},
     "output_type": "execute_result"
    }
   ],
   "source": [
    "data_dest[idx]"
   ]
  },
  {
   "cell_type": "markdown",
   "metadata": {},
   "source": [
    "### Training Data\n",
    "\n",
    "Now that the data-set has been converted to sequences of integer-tokens that are padded and truncated and saved in numpy arrays, we can easily prepare the data for use in training the neural network.\n",
    "\n",
    "The input to the encoder is merely the numpy array for the padded and truncated sequences of integer-tokens produced by the tokenizer:"
   ]
  },
  {
   "cell_type": "code",
   "execution_count": 34,
   "metadata": {},
   "outputs": [
    {
     "data": {
      "text/plain": [
       "array([  31,  232,   50,   89,  799,  133,  797, 1805,    2, 6633,    6,\n",
       "         11,  235,    2,  211,  161,  434,    6,  447,  133,  613,    5,\n",
       "       1012,    2,    1, 2341,    3,    1,  154,    4,  525,   11,  297,\n",
       "        259,  342,   49, 4229,    7,   13, 1097,  161,  491,  108,  716,\n",
       "       2253,    9,    1,  178,  796,    2,  134,   77,    1,  884,  211,\n",
       "          3, 1843,  625,    1, 2083, 1483,   22,  133, 4055,  473,    2,\n",
       "       5025,    1,  211,    3,  161,  434,    2, 8561, 7883, 1207,    4,\n",
       "          1,  768,    8,  412, 2305,    3, 1843,  625,   44,   68,  625,\n",
       "          3, 1450, 2899,   31,    5,  796,    7,    9,  239,    2,  773,\n",
       "         28,  172,  731,   71,    5, 4627, 1350,  203, 1053,   52,   21,\n",
       "        642,  680, 8675,   77,    1,  869,   55,  124,  678,  625, 5673,\n",
       "        280,    6,  447,   55, 1702,   60,  473, 1940,   64,    4,   90,\n",
       "         35,    1,  716,   93, 5035,    6,    5, 5061,  995,   22,    1,\n",
       "        248,  154, 2313, 3660,  341,  297,    1,   89,   10,   13,   53,\n",
       "        134,   18,  173,    2,  473,   29,   84,   13,   27,    2,   24,\n",
       "         84,   13,  797,    2,  100,   20,  316,   20,   19,    1, 1324,\n",
       "          2, 1452,   56,   25,  161,  491,  228, 1751, 1542, 6732,   20,\n",
       "        128,    7,    1,  137,   35,   23, 2880,   60,   33,  134,   25,\n",
       "        504,    4,   78, 1102,   35,   23,  107,   43, 1795,   13,   10,\n",
       "         33,  145,   19,   25,  869,   84,    1,  470,   21,  217,  276,\n",
       "          8,  360,   16, 3734,  133,   10,  253, 1542,  389,   40, 1135,\n",
       "          2, 3406,    5,  869,   48,    1,  429, 4070,    2,  273,   11,\n",
       "        662, 1283,    1,  525,  388, 1265,  608,   35,  851,    5,  889,\n",
       "         77,    1,  674,   11,  190,  877, 1204,   10, 2652,  380,  817,\n",
       "        515, 2149,  716,  731,  747, 4312,  678, 5673,  587,  447,  817,\n",
       "       2149,  222, 1745,   49,  678, 5673,  230,  447, 1457,  488,    7,\n",
       "         35, 1734,  235, 1843,  625,   34,  208,    6,   28,  288,  294,\n",
       "         81,  157,    6,    5, 3773, 4724,    1, 3608,    3,    1,  307,\n",
       "        201,    1, 4225,    9,  110,  391,    4,    7,    9,    2,  235,\n",
       "       1843,  625,   34,  208,    4,   29,   26, 1176,  678,  314, 1112,\n",
       "         72,  610,   11,  297,   24,   32,  208,    1,  625,    6,    1,\n",
       "        204, 5001, 1042,  288,    6,    5, 3773, 4724,   11,  830, 1128,\n",
       "         27,   42,    5,  642,  322,    3,  651,  869,   77,    1,  716,\n",
       "        731,  253,   50,  156,   19,   10,  272,   64, 1764,    7,    1,\n",
       "        716,   93,   12,  364,   15,  100,  716,  156,   19, 1079, 1170,\n",
       "          4, 2395, 7679,  714,   14,    1, 1416,  472,    4,   50,  800,\n",
       "        507,  123,    1,  288,  505, 1843,  625,   24,  678,  156,   19,\n",
       "       3897,    1, 2857,    3, 1455,    8,   28,  232,  121,   22, 5673,\n",
       "          1, 5673,   35,  813,   36, 2974,   14,  678, 4759, 1126, 6559,\n",
       "       1126,   32,   27,   10,   13,  797,    2, 1497,  271,    1,  678,\n",
       "        977,  423,  121,    9, 2333,   97, 8608,   15,    2,    1,  678,\n",
       "        151,  739,    1,  590,    8,    1, 8496,    3, 1843,  625,   54,\n",
       "       1039,    3,    1, 5673, 5554,    2,   10,  297,    7,   15,   82,\n",
       "        134,   59,    2,  118,  340,    2, 8150,    1,  488,   30, 3665,\n",
       "         15,  668,   67,    2,   23,  318,    2, 8150,    1,  287,    4,\n",
       "          1, 4613,   10,   13, 1272,    7, 1126,   27, 2198,   10,   52,\n",
       "          9,   64, 2612,    2,    5,  203, 1893,    2,    1,  731,    6,\n",
       "        447,    4,    7,    5,  161, 1893,    9,   29,   28, 2176, 8322,\n",
       "        447,    9,    5,  480,   22, 2028,    8,    1,   50,  133,   25,\n",
       "        338,   23, 6024,  817,  667, 5279,   19, 9408,    1,  185, 1477,\n",
       "          2,  134,    4,    1, 1192,  973,  297,  222, 1596, 7246,  203,\n",
       "        964,   77,    1,  509,    6,  447,   66,   50, 1805,   19,  175,\n",
       "          8, 1790,  491,  100,  262, 6118,    3, 5522,   71,   55,   82,\n",
       "        311,    5,   66,  651,  389,   19,  762,  226,   24,    1,  472,\n",
       "        512,  108,  161,  491,  341,   25,  157,   12,    5, 3129,    2,\n",
       "        817, 1175,    3,  422,  648, 3961,   22,  642, 1692, 2111,   11,\n",
       "        297,  133, 2083,   55,   13,   10,   53,   23,    5, 1583,  161,\n",
       "        491,  108,  716,   89, 3790, 2359,  106,  161,  288,   53,   29,\n",
       "         23,   44,  741,   50,  640,  282,   13,   10, 3402,  884,  211,\n",
       "          3, 1843,  625,  341,   25,  266,    9,   28, 1266,   11,  299,\n",
       "       4664,    1,   89,   10,    5, 1793,    2, 1711,   14,  434,  133,\n",
       "       1837,   82,  500,    2, 7793,  211,    3, 1843,  625,   44,   36,\n",
       "          2,  996,  335,   32,   53,   79,   78,   47, 2798,    6,    5,\n",
       "         88,   14,   91, 5164,   25,  338,   23, 6024,  447, 2648, 1269,\n",
       "         55,   53,  849,  185, 3010,   50,    4, 6220, 3867,  155,  447,\n",
       "        133,  375,  222,  214,  259,   11,  214,  259,    1,   89,  119,\n",
       "          5, 9242,  375,    2, 1805,   55,   35,  849,   60,   30,  512,\n",
       "         64,   31, 2308,    5,  667,  448,  232,   72,   46,    7,  133,\n",
       "         27,    1, 1324,    2,  514,  228,  473,  107,   60,  473,   18,\n",
       "       1290,    8, 6732,    2,  211,  434,  133,   11,  297,  835,    2,\n",
       "       4252,   59,  226,    8,    5, 1269,   11,    1, 2359,   93,   13,\n",
       "       1017,   26,  496,   14,  637,   89, 7466, 5619,   97,   18, 2313,\n",
       "       3660,  821,    1,   65,  389, 1135,    7,    1,  172,  334,  338,\n",
       "       2532,    5,  707,    2,    1, 5416, 1058,    4,  262,   32,   53,\n",
       "       1215,  437, 1843,  625,    7,  113, 1226,   21, 4306,    4,   92,\n",
       "         32, 6397,   25,  172, 8220,   35,   23,  399, 4257,   26,    1,\n",
       "         88,    1,  248,  154,   10, 1028,   16, 4960,   77,   90,  473,\n",
       "         53, 6633,    6,   50,  161,  156,   10,   30, 1585,   17,    1,\n",
       "       1090,  682,  642,   50,  800,  121,   11,  447,  447,   32,  797,\n",
       "         55,   49, 1843,  625, 4117, 6055, 3448,    2,  817,  821,    5,\n",
       "        314,    8,    1,  716,  147, 1530,   10,    7,    1,  691,  153,\n",
       "         12, 3287,   26,  817, 1629,   78, 1033,   86,    9,    7,    1,\n",
       "       1211,    3,  491,   82,    1, 1058,    4,   30, 4581,   18,  411,\n",
       "          6,    5,   43,  784,  120,   10,  314,   62,   33,   21, 1080,\n",
       "       1308,   66,  234,    3,  473, 8609,  817,  375,  154, 2440,  351,\n",
       "       2742,  879,  413, 2205, 9053,  879, 2587, 7109,    4,  808, 4019,\n",
       "       9775,  891,    5,  160,  297,    1,   89,  174,    1, 1830,    1,\n",
       "       1170,    2, 6372,  220, 3053,   14,  473,    1,  451, 1805,   10,\n",
       "         33,   21, 4942,    1,   89,    9, 1373, 6732,    8,  106,  161,\n",
       "        491,    6,  447,    6,  675,    2,  784,  680,  105, 1100,   43,\n",
       "         63, 6922, 5620,  159, 2489,    3,  817, 1156,  730,   40, 1184,\n",
       "       2785,  966,    8,  886,    5,  512,   44,   17,  256,    5,  515,\n",
       "        869,   97,  106,   50,  491,  472,  567,  324,  685, 3159,  581,\n",
       "        188, 1289,    2,   99, 1805,    6,   18,  137,    2,  226,  161,\n",
       "        491,    6,  447,  892,  341,   25,  157, 1617,    2,  817,  821,\n",
       "          6,    5,  652,  831,  297,   20,  885,    4,  226,  799,  817,\n",
       "        923,   11,  447, 3159,   10,   28, 4909, 6153,    6,  617,   54,\n",
       "         27, 2037,   26,  447,    4, 2098,    1,  104,  102,   40,   18,\n",
       "        188, 3840,    1, 1001,  805,  133,    9, 2193,    2,    1,  473,\n",
       "          1,  161, 1059,  124,   29,   99,  378,  226,  886,    6,    1,\n",
       "         88,  267, 2111,    3,    1,   50,   44,    6,    1,  104,  102,\n",
       "        934, 1314,    3,    1,  608,    3,    1,  687,  101,   10,    6,\n",
       "          5,  652,  831,    6,    1,  104,  102, 7159,  335,    3,  826,\n",
       "        155,    1,  137,  212,    2,    1, 1000,  297,   73,   91,   68,\n",
       "         69, 3983,    3,    1,  104,  102,  422,  505,    4,    4, 2130,\n",
       "         68,  332,   10, 4634,   32,   12,  267,  822,   17,    5,  671,\n",
       "        729, 4445,   55,   79, 3402, 2186,  122,  221,  617,  325,  530,\n",
       "        917,   26, 5416, 3402,   93,   49,  817,  821,    5,  161,    4,\n",
       "        203, 2272,   11,  716,  101,  661,   10,  133,    9, 7727,    7,\n",
       "        617, 7973,  161,  491,  108,  447,    9, 4110,    8,  168,    8,\n",
       "        508,    2,  189,    2,   18, 1513,    4,    9, 1594,   65,   11,\n",
       "          1,  203,    4])"
      ]
     },
     "execution_count": 34,
     "metadata": {},
     "output_type": "execute_result"
    }
   ],
   "source": [
    "tokens_src[0]"
   ]
  },
  {
   "cell_type": "code",
   "execution_count": 35,
   "metadata": {},
   "outputs": [],
   "source": [
    "encoder_input_data = tokens_src"
   ]
  },
  {
   "cell_type": "markdown",
   "metadata": {},
   "source": [
    "The input and output data for the decoder is identical, except shifted one time-step. We can use the same numpy array to save memory by slicing it, which merely creates different 'views' of the same data in memory."
   ]
  },
  {
   "cell_type": "code",
   "execution_count": 36,
   "metadata": {},
   "outputs": [
    {
     "data": {
      "text/plain": [
       "(91471, 57)"
      ]
     },
     "execution_count": 36,
     "metadata": {},
     "output_type": "execute_result"
    }
   ],
   "source": [
    "decoder_input_data = tokens_dest[:, :-1]\n",
    "decoder_input_data.shape"
   ]
  },
  {
   "cell_type": "code",
   "execution_count": 37,
   "metadata": {},
   "outputs": [
    {
     "data": {
      "text/plain": [
       "(91471, 57)"
      ]
     },
     "execution_count": 37,
     "metadata": {},
     "output_type": "execute_result"
    }
   ],
   "source": [
    "decoder_output_data = tokens_dest[:, 1:]\n",
    "decoder_output_data.shape"
   ]
  },
  {
   "cell_type": "markdown",
   "metadata": {},
   "source": [
    "For example, these token-sequences are identical except they are shifted one time-step."
   ]
  },
  {
   "cell_type": "code",
   "execution_count": 38,
   "metadata": {},
   "outputs": [],
   "source": [
    "idx = 2"
   ]
  },
  {
   "cell_type": "code",
   "execution_count": 39,
   "metadata": {},
   "outputs": [
    {
     "data": {
      "text/plain": [
       "array([   3,    1, 2207,    5, 8678, 2690,  106,  351,   10,  188,  757,\n",
       "          6, 3862,  392,    1, 1220,  592,    2,    8,   21,    1, 5147,\n",
       "         30,   65,   70,  925,   38,   51,    1,  323,  134,   81, 3473,\n",
       "         10,  162, 1501,    4,    0,    0,    0,    0,    0,    0,    0,\n",
       "          0,    0,    0,    0,    0,    0,    0,    0,    0,    0,    0,\n",
       "          0,    0])"
      ]
     },
     "execution_count": 39,
     "metadata": {},
     "output_type": "execute_result"
    }
   ],
   "source": [
    "decoder_input_data[idx]"
   ]
  },
  {
   "cell_type": "code",
   "execution_count": 40,
   "metadata": {},
   "outputs": [
    {
     "data": {
      "text/plain": [
       "array([   1, 2207,    5, 8678, 2690,  106,  351,   10,  188,  757,    6,\n",
       "       3862,  392,    1, 1220,  592,    2,    8,   21,    1, 5147,   30,\n",
       "         65,   70,  925,   38,   51,    1,  323,  134,   81, 3473,   10,\n",
       "        162, 1501,    4,    0,    0,    0,    0,    0,    0,    0,    0,\n",
       "          0,    0,    0,    0,    0,    0,    0,    0,    0,    0,    0,\n",
       "          0,    0])"
      ]
     },
     "execution_count": 40,
     "metadata": {},
     "output_type": "execute_result"
    }
   ],
   "source": [
    "decoder_output_data[idx]"
   ]
  },
  {
   "cell_type": "markdown",
   "metadata": {},
   "source": [
    "If we use the tokenizer to convert these sequences back into text, we see that they are identical except for the first word which is 'ssss' that marks the beginning of a text."
   ]
  },
  {
   "cell_type": "code",
   "execution_count": 41,
   "metadata": {},
   "outputs": [
    {
     "data": {
      "text/plain": [
       "'sssss the employee in agencys kansas city office is among hundreds of virtual workers the employees travel to and from the mainland us last year cost more than the program like all practices is under review eeeee'"
      ]
     },
     "execution_count": 41,
     "metadata": {},
     "output_type": "execute_result"
    }
   ],
   "source": [
    "tokenizer_dest.tokens_to_string(decoder_input_data[idx])"
   ]
  },
  {
   "cell_type": "code",
   "execution_count": 42,
   "metadata": {},
   "outputs": [
    {
     "data": {
      "text/plain": [
       "'the employee in agencys kansas city office is among hundreds of virtual workers the employees travel to and from the mainland us last year cost more than the program like all practices is under review eeeee'"
      ]
     },
     "execution_count": 42,
     "metadata": {},
     "output_type": "execute_result"
    }
   ],
   "source": [
    "tokenizer_dest.tokens_to_string(decoder_output_data[idx])"
   ]
  },
  {
   "cell_type": "markdown",
   "metadata": {},
   "source": [
    "## Create the Neural Network\n",
    "\n",
    "### Create the Encoder\n",
    "\n",
    "First we create the encoder-part of the neural network which maps a sequence of integer-tokens to a \"thought vector\". We will use the so-called functional API of Keras for this, where we first create the objects for all the layers of the neural network and then we connect them later, this allows for more flexibility than the so-called sequential API in Keras, which is useful when experimenting with more complicated architectures and ways of connecting the encoder and decoder."
   ]
  },
  {
   "cell_type": "markdown",
   "metadata": {},
   "source": [
    "This is the input for the encoder which takes batches of integer-token sequences. The `None` indicates that the sequences can have arbitrary length."
   ]
  },
  {
   "cell_type": "code",
   "execution_count": 43,
   "metadata": {},
   "outputs": [],
   "source": [
    "encoder_input = Input(shape=(None, ), name='encoder_input')"
   ]
  },
  {
   "cell_type": "markdown",
   "metadata": {},
   "source": [
    "This is the length of the vectors output by the embedding-layer, which maps integer-tokens to vectors of values roughly between -1 and 1, so that words that have similar semantic meanings are mapped to vectors that are similar. See Tutorial #20 for a more detailed explanation of this."
   ]
  },
  {
   "cell_type": "code",
   "execution_count": 44,
   "metadata": {},
   "outputs": [],
   "source": [
    "embedding_size = 128"
   ]
  },
  {
   "cell_type": "markdown",
   "metadata": {},
   "source": [
    "This is the embedding-layer."
   ]
  },
  {
   "cell_type": "code",
   "execution_count": 45,
   "metadata": {},
   "outputs": [],
   "source": [
    "encoder_embedding = Embedding(input_dim=num_words,\n",
    "                              output_dim=embedding_size,\n",
    "                              name='encoder_embedding')"
   ]
  },
  {
   "cell_type": "markdown",
   "metadata": {},
   "source": [
    "This is the size of the internal states of the Gated Recurrent Units (GRU). The same size is used in both the encoder and decoder."
   ]
  },
  {
   "cell_type": "code",
   "execution_count": 46,
   "metadata": {},
   "outputs": [],
   "source": [
    "state_size = 128"
   ]
  },
  {
   "cell_type": "markdown",
   "metadata": {},
   "source": [
    "This creates the 3 GRU layers that will map from a sequence of embedding-vectors to a single \"thought vector\" which summarizes the contents of the input-text. Note that the last GRU-layer does not return a sequence."
   ]
  },
  {
   "cell_type": "code",
   "execution_count": 47,
   "metadata": {},
   "outputs": [],
   "source": [
    "encoder_gru1 = LSTM(state_size, name='encoder_gru1',\n",
    "                   return_sequences=True,return_state=True)\n",
    "encoder_gru2 = LSTM(state_size, name='encoder_gru2',\n",
    "                   return_sequences=True,return_state=True)\n",
    "encoder_gru3 = LSTM(state_size, name='encoder_gru3',\n",
    "                   return_sequences=True,return_state=True)"
   ]
  },
  {
   "cell_type": "markdown",
   "metadata": {},
   "source": [
    "This helper-function connects all the layers of the encoder."
   ]
  },
  {
   "cell_type": "code",
   "execution_count": 48,
   "metadata": {},
   "outputs": [],
   "source": [
    "def connect_encoder():\n",
    "    # Start the neural network with its input-layer.\n",
    "    net = encoder_input\n",
    "    \n",
    "    # Connect the embedding-layer.\n",
    "    net = encoder_embedding(net)\n",
    "\n",
    "    # Connect all the GRU-layers.\n",
    "    net, _, _ = encoder_gru1(net)\n",
    "    net, _, _ = encoder_gru2(net)\n",
    "    net, state_h, state_c = encoder_gru3(net)\n",
    "    \n",
    "    return state_h, state_c"
   ]
  },
  {
   "cell_type": "markdown",
   "metadata": {},
   "source": [
    "Note how the encoder uses the normal output from its last GRU-layer as the \"thought vector\". Research papers often use the internal state of the encoder's last recurrent layer as the \"thought vector\". But this makes the implementation more complicated and is not necessary when using the GRU. But if you were using the LSTM instead then it is necessary to use the LSTM's internal states as the \"thought vector\" because it actually has two internal vectors, which we would need to initialize the two internal states of the decoder's LSTM units.\n",
    "\n",
    "We can now use this function to connect all the layers in the encoder so it can be connected to the decoder further below."
   ]
  },
  {
   "cell_type": "code",
   "execution_count": 49,
   "metadata": {},
   "outputs": [],
   "source": [
    "encoder_output_h, encoder_output_c  = connect_encoder()"
   ]
  },
  {
   "cell_type": "markdown",
   "metadata": {},
   "source": [
    "### Create the Decoder\n",
    "\n",
    "Create the decoder-part which maps the \"thought vector\" to a sequence of integer-tokens.\n",
    "\n",
    "The decoder takes two inputs. First it needs the \"thought vector\" produced by the encoder which summarizes the contents of the input-text."
   ]
  },
  {
   "cell_type": "code",
   "execution_count": 50,
   "metadata": {},
   "outputs": [],
   "source": [
    "decoder_initial_state = Input(shape=(state_size,),\n",
    "                              name='decoder_initial_state')"
   ]
  },
  {
   "cell_type": "markdown",
   "metadata": {},
   "source": [
    "The decoder also needs a sequence of integer-tokens as inputs. During training we will supply this with a full sequence of integer-tokens e.g. corresponding to the text \"ssss once upon a time eeee\". \n",
    "\n",
    "During inference when we are translating new input-texts, we will start by feeding a sequence with just one integer-token for \"ssss\" which marks the beginning of a text, and combined with the \"thought vector\" from the encoder, the decoder will hopefully be able to produce the correct next word e.g. \"once\"."
   ]
  },
  {
   "cell_type": "code",
   "execution_count": 51,
   "metadata": {},
   "outputs": [],
   "source": [
    "decoder_input = Input(shape=(None, ), name='decoder_input')"
   ]
  },
  {
   "cell_type": "markdown",
   "metadata": {},
   "source": [
    "This is the embedding-layer which converts integer-tokens to vectors of real-valued numbers roughly between -1 and 1. Note that we have different embedding-layers for the encoder and decoder because we have two different vocabularies and two different tokenizers for the source and destination languages."
   ]
  },
  {
   "cell_type": "code",
   "execution_count": 52,
   "metadata": {},
   "outputs": [],
   "source": [
    "decoder_embedding = Embedding(input_dim=num_words,\n",
    "                              output_dim=embedding_size,\n",
    "                              name='decoder_embedding')"
   ]
  },
  {
   "cell_type": "markdown",
   "metadata": {},
   "source": [
    "This creates the 3 GRU layers of the decoder. Note that they all return sequences because we ultimately want to output a sequence of integer-tokens that can be converted into a text-sequence."
   ]
  },
  {
   "cell_type": "code",
   "execution_count": 53,
   "metadata": {},
   "outputs": [],
   "source": [
    "decoder_gru1 = LSTM(state_size, name='decoder_gru1',\n",
    "                   return_sequences=True, return_state=True)\n",
    "decoder_gru2 = LSTM(state_size, name='decoder_gru2',\n",
    "                   return_sequences=True, return_state=True)\n",
    "decoder_gru3 = LSTM(state_size, name='decoder_gru3',\n",
    "                   return_sequences=True, return_state=True)"
   ]
  },
  {
   "cell_type": "markdown",
   "metadata": {},
   "source": [
    "The GRU layers output a tensor with shape `[batch_size, sequence_length, state_size]`, where each \"word\" is encoded as a vector of length `state_size`. We need to convert this into sequences of integer-tokens that can be interpreted as words from our vocabulary.\n",
    "\n",
    "One way of doing this is to convert the GRU output to a one-hot encoded array. It works but it is extremely wasteful, because for a vocabulary of e.g. 10000 words we need a vector with 10000 elements, so we can select the index of the highest element to be the integer-token."
   ]
  },
  {
   "cell_type": "code",
   "execution_count": 54,
   "metadata": {},
   "outputs": [],
   "source": [
    "decoder_dense = Dense(num_words,\n",
    "                      activation='softmax',\n",
    "                      name='decoder_output')"
   ]
  },
  {
   "cell_type": "markdown",
   "metadata": {},
   "source": [
    "The decoder is built using the functional API of Keras, which allows more flexibility in connecting the layers e.g. to route different inputs to the decoder. This is useful because we have to connect the decoder directly to the encoder, but we will also connect the decoder to another input so we can run it separately.\n",
    "\n",
    "This function connects all the layers of the decoder to some input of the initial-state values for the GRU layers."
   ]
  },
  {
   "cell_type": "code",
   "execution_count": 55,
   "metadata": {},
   "outputs": [],
   "source": [
    "def connect_decoder(initial_state):\n",
    "    # Start the decoder-network with its input-layer.\n",
    "    net = decoder_input\n",
    "\n",
    "    # Connect the embedding-layer.\n",
    "    net = decoder_embedding(net)\n",
    "    \n",
    "    # Connect all the GRU-layers.\n",
    "    net, _, _ = decoder_gru1(net, initial_state=[encoder_output_h, encoder_output_c])\n",
    "    net, _, _ = decoder_gru2(net, initial_state=[encoder_output_h, encoder_output_c])\n",
    "\n",
    "    # Connect the final dense layer that converts to\n",
    "    # one-hot encoded arrays.\n",
    "    decoder_output = decoder_dense(net)\n",
    "    \n",
    "    return decoder_output"
   ]
  },
  {
   "cell_type": "markdown",
   "metadata": {},
   "source": [
    "### Connect and Create the Models\n",
    "\n",
    "We can now connect the encoder and decoder in different ways.\n",
    "\n",
    "First we connect the encoder directly to the decoder so it is one whole model that can be trained end-to-end. This means the initial-state of the decoder's GRU units are set to the output of the encoder."
   ]
  },
  {
   "cell_type": "code",
   "execution_count": 56,
   "metadata": {},
   "outputs": [],
   "source": [
    "decoder_output = connect_decoder(initial_state=[encoder_output_h, encoder_output_c])\n",
    "\n",
    "model_train = Model(inputs=[encoder_input, decoder_input],\n",
    "                    outputs=[decoder_output])"
   ]
  },
  {
   "cell_type": "markdown",
   "metadata": {},
   "source": [
    "Then we create a model for just the encoder alone. This is useful for mapping a sequence of integer-tokens to a \"thought-vector\" summarizing its contents."
   ]
  },
  {
   "cell_type": "code",
   "execution_count": 57,
   "metadata": {},
   "outputs": [],
   "source": [
    "# model_encoder = Model(inputs=[encoder_input],\n",
    "#                       outputs=[encoder_output])"
   ]
  },
  {
   "cell_type": "markdown",
   "metadata": {},
   "source": [
    "Then we create a model for just the decoder alone. This allows us to directly input the initial state for the decoder's GRU units."
   ]
  },
  {
   "cell_type": "code",
   "execution_count": 58,
   "metadata": {},
   "outputs": [],
   "source": [
    "# decoder_output = connect_decoder(initial_state=decoder_initial_state)\n",
    "\n",
    "# model_decoder = Model(inputs=[decoder_input, decoder_initial_state],\n",
    "#                       outputs=[decoder_output])"
   ]
  },
  {
   "cell_type": "markdown",
   "metadata": {},
   "source": [
    "Note that all these models use the same weights and variables of the encoder and decoder. We are merely changing how they are connected. So once the entire model has been trained, we can run the encoder and decoder models separately with the trained weights."
   ]
  },
  {
   "cell_type": "markdown",
   "metadata": {},
   "source": [
    "### Compile the Model\n",
    "\n",
    "The output of the decoder is a sequence of one-hot encoded arrays. In order to train the decoder we need to supply the one-hot encoded arrays that we desire to see on the decoder's output, and then use a loss-function like cross-entropy to train the decoder to produce this desired output.\n",
    "\n",
    "However, our data-set contains integer-tokens instead of one-hot encoded arrays. Each one-hot encoded array has 10000 elements so it would be extremely wasteful to convert the entire data-set to one-hot encoded arrays.\n",
    "\n",
    "A better way is to use a so-called sparse cross-entropy loss-function, which does the conversion internally from integers to one-hot encoded arrays.\n",
    "\n",
    "We have used the Adam optimizer in many of the previous tutorials, but it seems to diverge in some of these experiments with Recurrent Neural Networks. RMSprop seems to work much better for these."
   ]
  },
  {
   "cell_type": "code",
   "execution_count": 59,
   "metadata": {},
   "outputs": [],
   "source": [
    "model_train.compile(optimizer=RMSprop(lr=1e-3),\n",
    "                    loss='sparse_categorical_crossentropy')"
   ]
  },
  {
   "cell_type": "markdown",
   "metadata": {},
   "source": [
    "### Callback Functions\n",
    "\n",
    "During training we want to save checkpoints and log the progress to TensorBoard so we create the appropriate callbacks for Keras.\n",
    "\n",
    "This is the callback for writing checkpoints during training."
   ]
  },
  {
   "cell_type": "code",
   "execution_count": 60,
   "metadata": {},
   "outputs": [],
   "source": [
    "path_checkpoint = '21_checkpoint.keras'\n",
    "callback_checkpoint = ModelCheckpoint(filepath=path_checkpoint,\n",
    "                                      monitor='val_loss',\n",
    "                                      verbose=1,\n",
    "                                      save_weights_only=True,\n",
    "                                      save_best_only=True)"
   ]
  },
  {
   "cell_type": "markdown",
   "metadata": {},
   "source": [
    "This is the callback for stopping the optimization when performance worsens on the validation-set."
   ]
  },
  {
   "cell_type": "code",
   "execution_count": 61,
   "metadata": {},
   "outputs": [],
   "source": [
    "callback_early_stopping = EarlyStopping(monitor='val_loss',\n",
    "                                        patience=3, verbose=1)"
   ]
  },
  {
   "cell_type": "markdown",
   "metadata": {},
   "source": [
    "This is the callback for writing the TensorBoard log during training."
   ]
  },
  {
   "cell_type": "code",
   "execution_count": 62,
   "metadata": {},
   "outputs": [],
   "source": [
    "callback_tensorboard = TensorBoard(log_dir='./21_logs/',\n",
    "                                   histogram_freq=0,\n",
    "                                   write_graph=False)"
   ]
  },
  {
   "cell_type": "code",
   "execution_count": 63,
   "metadata": {},
   "outputs": [],
   "source": [
    "callbacks = [callback_early_stopping,\n",
    "             callback_checkpoint,\n",
    "             callback_tensorboard]"
   ]
  },
  {
   "cell_type": "markdown",
   "metadata": {},
   "source": [
    "### Load Checkpoint\n",
    "\n",
    "You can reload the last saved checkpoint so you don't have to train the model every time you want to use it."
   ]
  },
  {
   "cell_type": "code",
   "execution_count": 64,
   "metadata": {},
   "outputs": [],
   "source": [
    "# try:\n",
    "#     model_train.load_weights(path_checkpoint)\n",
    "# except Exception as error:\n",
    "#     print(\"Error trying to load checkpoint.\")\n",
    "#     print(error)"
   ]
  },
  {
   "cell_type": "markdown",
   "metadata": {},
   "source": [
    "### Train the Model\n",
    "\n",
    "We wrap the data in named dicts so we are sure the data is assigned correctly to the inputs and outputs of the model."
   ]
  },
  {
   "cell_type": "code",
   "execution_count": 65,
   "metadata": {},
   "outputs": [],
   "source": [
    "x_data = \\\n",
    "{\n",
    "    'encoder_input': encoder_input_data,\n",
    "    'decoder_input': decoder_input_data\n",
    "}"
   ]
  },
  {
   "cell_type": "code",
   "execution_count": 66,
   "metadata": {},
   "outputs": [],
   "source": [
    "y_data = \\\n",
    "{\n",
    "    'decoder_output': decoder_output_data\n",
    "}"
   ]
  },
  {
   "cell_type": "markdown",
   "metadata": {},
   "source": [
    "We want a validation-set of 10000 sequences but Keras needs this number as a fraction."
   ]
  },
  {
   "cell_type": "code",
   "execution_count": 67,
   "metadata": {},
   "outputs": [
    {
     "data": {
      "text/plain": [
       "0.10932426670748106"
      ]
     },
     "execution_count": 67,
     "metadata": {},
     "output_type": "execute_result"
    }
   ],
   "source": [
    "validation_split = 10000 / len(encoder_input_data)\n",
    "validation_split"
   ]
  },
  {
   "cell_type": "markdown",
   "metadata": {},
   "source": [
    "Now we can train the model. One epoch of training took about 1 hour on a GTX 1070 GPU. You probably need to run 10 epochs or more during training. After 10 epochs the loss was about 1.10 on the training-set and about 1.15 on the validation-set.\n",
    "\n",
    "The batch-size was chosen to keep the GPU running at nearly 100% while being within the memory limits of 8GB for this GPU."
   ]
  },
  {
   "cell_type": "code",
   "execution_count": 68,
   "metadata": {},
   "outputs": [
    {
     "name": "stdout",
     "output_type": "stream",
     "text": [
      "Model: \"model\"\n",
      "__________________________________________________________________________________________________\n",
      "Layer (type)                    Output Shape         Param #     Connected to                     \n",
      "==================================================================================================\n",
      "encoder_input (InputLayer)      [(None, None)]       0                                            \n",
      "__________________________________________________________________________________________________\n",
      "encoder_embedding (Embedding)   (None, None, 128)    1280000     encoder_input[0][0]              \n",
      "__________________________________________________________________________________________________\n",
      "encoder_gru1 (LSTM)             [(None, None, 128),  131584      encoder_embedding[0][0]          \n",
      "__________________________________________________________________________________________________\n",
      "decoder_input (InputLayer)      [(None, None)]       0                                            \n",
      "__________________________________________________________________________________________________\n",
      "encoder_gru2 (LSTM)             [(None, None, 128),  131584      encoder_gru1[0][0]               \n",
      "__________________________________________________________________________________________________\n",
      "decoder_embedding (Embedding)   (None, None, 128)    1280000     decoder_input[0][0]              \n",
      "__________________________________________________________________________________________________\n",
      "encoder_gru3 (LSTM)             [(None, None, 128),  131584      encoder_gru2[0][0]               \n",
      "__________________________________________________________________________________________________\n",
      "decoder_gru1 (LSTM)             [(None, None, 128),  131584      decoder_embedding[0][0]          \n",
      "                                                                 encoder_gru3[0][1]               \n",
      "                                                                 encoder_gru3[0][2]               \n",
      "__________________________________________________________________________________________________\n",
      "decoder_gru2 (LSTM)             [(None, None, 128),  131584      decoder_gru1[0][0]               \n",
      "                                                                 encoder_gru3[0][1]               \n",
      "                                                                 encoder_gru3[0][2]               \n",
      "__________________________________________________________________________________________________\n",
      "decoder_gru3 (LSTM)             [(None, None, 128),  131584      decoder_gru2[0][0]               \n",
      "                                                                 encoder_gru3[0][1]               \n",
      "                                                                 encoder_gru3[0][2]               \n",
      "__________________________________________________________________________________________________\n",
      "decoder_output (Dense)          (None, None, 10000)  1290000     decoder_gru3[0][0]               \n",
      "==================================================================================================\n",
      "Total params: 4,639,504\n",
      "Trainable params: 4,639,504\n",
      "Non-trainable params: 0\n",
      "__________________________________________________________________________________________________\n"
     ]
    }
   ],
   "source": [
    "model_train.summary()"
   ]
  },
  {
   "cell_type": "code",
   "execution_count": null,
   "metadata": {
    "scrolled": true
   },
   "outputs": [
    {
     "name": "stdout",
     "output_type": "stream",
     "text": [
      "Train on 77750 samples, validate on 13721 samples\n",
      "Epoch 1/10\n",
      "  704/77750 [..............................] - ETA: 17:57 - loss: 7.8965"
     ]
    }
   ],
   "source": [
    "model_train.fit(x=x_data,\n",
    "                y=y_data,\n",
    "                batch_size=64,\n",
    "                epochs=10,\n",
    "                validation_split=0.15)"
   ]
  },
  {
   "cell_type": "markdown",
   "metadata": {},
   "source": [
    "## Translate Texts\n",
    "\n",
    "This function translates a text from the source-language to the destination-language and optionally prints a true translation."
   ]
  },
  {
   "cell_type": "code",
   "execution_count": null,
   "metadata": {},
   "outputs": [],
   "source": [
    "def translate(input_text, true_output_text=None):\n",
    "    \"\"\"Translate a single text-string.\"\"\"\n",
    "\n",
    "    # Convert the input-text to integer-tokens.\n",
    "    # Note the sequence of tokens has to be reversed.\n",
    "    # Padding is probably not necessary.\n",
    "    input_tokens = tokenizer_src.text_to_tokens(text=input_text,\n",
    "                                                reverse=True,\n",
    "                                                padding=True)\n",
    "    \n",
    "    # Get the output of the encoder's GRU which will be\n",
    "    # used as the initial state in the decoder's GRU.\n",
    "    # This could also have been the encoder's final state\n",
    "    # but that is really only necessary if the encoder\n",
    "    # and decoder use the LSTM instead of GRU because\n",
    "    # the LSTM has two internal states.\n",
    "    initial_state = model_encoder.predict(input_tokens)\n",
    "\n",
    "    # Max number of tokens / words in the output sequence.\n",
    "    max_tokens = tokenizer_dest.max_tokens\n",
    "\n",
    "    # Pre-allocate the 2-dim array used as input to the decoder.\n",
    "    # This holds just a single sequence of integer-tokens,\n",
    "    # but the decoder-model expects a batch of sequences.\n",
    "    shape = (1, max_tokens)\n",
    "    decoder_input_data = np.zeros(shape=shape, dtype=np.int)\n",
    "\n",
    "    # The first input-token is the special start-token for 'ssss '.\n",
    "    token_int = token_start\n",
    "\n",
    "    # Initialize an empty output-text.\n",
    "    output_text = ''\n",
    "\n",
    "    # Initialize the number of tokens we have processed.\n",
    "    count_tokens = 0\n",
    "\n",
    "    # While we haven't sampled the special end-token for ' eeee'\n",
    "    # and we haven't processed the max number of tokens.\n",
    "    while token_int != token_end and count_tokens < max_tokens:\n",
    "        # Update the input-sequence to the decoder\n",
    "        # with the last token that was sampled.\n",
    "        # In the first iteration this will set the\n",
    "        # first element to the start-token.\n",
    "        decoder_input_data[0, count_tokens] = token_int\n",
    "\n",
    "        # Wrap the input-data in a dict for clarity and safety,\n",
    "        # so we are sure we input the data in the right order.\n",
    "        x_data = \\\n",
    "        {\n",
    "            'decoder_initial_state': initial_state,\n",
    "            'decoder_input': decoder_input_data\n",
    "        }\n",
    "\n",
    "        # Note that we input the entire sequence of tokens\n",
    "        # to the decoder. This wastes a lot of computation\n",
    "        # because we are only interested in the last input\n",
    "        # and output. We could modify the code to return\n",
    "        # the GRU-states when calling predict() and then\n",
    "        # feeding these GRU-states as well the next time\n",
    "        # we call predict(), but it would make the code\n",
    "        # much more complicated.\n",
    "\n",
    "        # Input this data to the decoder and get the predicted output.\n",
    "        decoder_output = model_decoder.predict(x_data)\n",
    "\n",
    "        # Get the last predicted token as a one-hot encoded array.\n",
    "        token_onehot = decoder_output[0, count_tokens, :]\n",
    "        \n",
    "        # Convert to an integer-token.\n",
    "        token_int = np.argmax(token_onehot)\n",
    "\n",
    "        # Lookup the word corresponding to this integer-token.\n",
    "        sampled_word = tokenizer_dest.token_to_word(token_int)\n",
    "\n",
    "        # Append the word to the output-text.\n",
    "        output_text += \" \" + sampled_word\n",
    "\n",
    "        # Increment the token-counter.\n",
    "        count_tokens += 1\n",
    "\n",
    "    # Sequence of tokens output by the decoder.\n",
    "    output_tokens = decoder_input_data[0]\n",
    "    \n",
    "    # Print the input-text.\n",
    "    print(\"Input text:\")\n",
    "    print(input_text)\n",
    "    print()\n",
    "\n",
    "    # Print the translated output-text.\n",
    "    print(\"Translated text:\")\n",
    "    print(output_text)\n",
    "    print()\n",
    "\n",
    "    # Optionally print the true translated text.\n",
    "    if true_output_text is not None:\n",
    "        print(\"True output text:\")\n",
    "        print(true_output_text)\n",
    "        print()"
   ]
  },
  {
   "cell_type": "markdown",
   "metadata": {},
   "source": [
    "### Examples\n",
    "\n",
    "Translate a text from the training-data. This translation is quite good. Note how it is not identical to the translation from the training-data, but the actual meaning is similar."
   ]
  },
  {
   "cell_type": "code",
   "execution_count": null,
   "metadata": {},
   "outputs": [],
   "source": [
    "idx = 3\n",
    "translate(input_text=data_src[idx],\n",
    "          true_output_text=data_dest[idx])"
   ]
  },
  {
   "cell_type": "markdown",
   "metadata": {},
   "source": [
    "Here is another example which is also a reasonable translation, although it has incorrectly translated the natural disasters. Note \"countries of the European Union\" has instead been translated as \"member states\" which are synonyms in this context."
   ]
  },
  {
   "cell_type": "code",
   "execution_count": null,
   "metadata": {},
   "outputs": [],
   "source": [
    "idx = 4\n",
    "translate(input_text=data_src[idx],\n",
    "          true_output_text=data_dest[idx])"
   ]
  },
  {
   "cell_type": "markdown",
   "metadata": {},
   "source": [
    "In this example we join two texts from the training-set. The model first sends this combined text through the encoder, which produces a \"thought-vector\" that seems to summarize both texts reasonably well so the decoder can produce a reasonable translation."
   ]
  },
  {
   "cell_type": "code",
   "execution_count": null,
   "metadata": {
    "scrolled": true
   },
   "outputs": [],
   "source": [
    "idx = 3\n",
    "translate(input_text=data_src[idx] + data_src[idx+1],\n",
    "          true_output_text=data_dest[idx] + data_dest[idx+1])"
   ]
  },
  {
   "cell_type": "markdown",
   "metadata": {},
   "source": [
    "If we reverse the order of these two texts then the meaning is not quite so clear for the latter text."
   ]
  },
  {
   "cell_type": "code",
   "execution_count": null,
   "metadata": {},
   "outputs": [],
   "source": [
    "idx = 3\n",
    "translate(input_text=data_src[idx+1] + data_src[idx],\n",
    "          true_output_text=data_dest[idx+1] + data_dest[idx])"
   ]
  },
  {
   "cell_type": "markdown",
   "metadata": {},
   "source": [
    "This is an example I made up. It is a quite broken translation."
   ]
  },
  {
   "cell_type": "code",
   "execution_count": null,
   "metadata": {},
   "outputs": [],
   "source": [
    "translate(input_text=\"der var engang et land der hed Danmark\",\n",
    "          true_output_text='Once there was a country named Denmark')"
   ]
  },
  {
   "cell_type": "markdown",
   "metadata": {},
   "source": [
    "This is another example I made up. This is a better translation even though it is perhaps a more complicated text."
   ]
  },
  {
   "cell_type": "code",
   "execution_count": null,
   "metadata": {},
   "outputs": [],
   "source": [
    "translate(input_text=\"Idag kan man læse i avisen at Danmark er blevet fornuftigt\",\n",
    "          true_output_text=\"Today you can read in the newspaper that Denmark has become sensible.\")"
   ]
  },
  {
   "cell_type": "markdown",
   "metadata": {},
   "source": [
    "This is a text from a Danish song. It doesn't even make much sense in Danish. However the translation is probably so broken because several of the words are not in the vocabulary."
   ]
  },
  {
   "cell_type": "code",
   "execution_count": null,
   "metadata": {},
   "outputs": [],
   "source": [
    "translate(input_text=\"Hvem spæner ud af en butik og tygger de stærkeste bolcher?\",\n",
    "          true_output_text=\"Who runs out of a shop and chews the strongest bon-bons?\")"
   ]
  },
  {
   "cell_type": "markdown",
   "metadata": {},
   "source": [
    "## Conclusion\n",
    "\n",
    "This tutorial showed the basic idea of using two Recurrent Neural Networks in a so-called encoder/decoder model to do Machine Translation of human languages. It was demonstrated on the very large Europarl data-set from the European Union.\n",
    "\n",
    "The model could produce reasonable translations for some texts but not for others. It is possible that a better architecture for the neural network and more training epochs could improve performance. There are also more advanced models that are known to improve quality of the translations.\n",
    "\n",
    "However, it is important to note that these models do not really understand human language. The models have no knowledge of the actual meaning of the words. The models are merely very advanced function approximators that can map between sequences of integer-tokens."
   ]
  },
  {
   "cell_type": "markdown",
   "metadata": {},
   "source": [
    "## Exercises\n",
    "\n",
    "These are a few suggestions for exercises that may help improve your skills with TensorFlow. It is important to get hands-on experience with TensorFlow in order to learn how to use it properly.\n",
    "\n",
    "You may want to backup this Notebook before making any changes.\n",
    "\n",
    "* Train for more than 10 epochs. Does it improve the translations?\n",
    "* Increase the size of the vocabulary. Does it improve the translations? Would it make sense to have different sizes for the vocabularies of the source and destination languages?\n",
    "* Find another data-set and use it together with Europarl.\n",
    "* Change the architectures of the neural network, for example change the state-size for the GRU layers, the number of GRU layers, the embedding-size, etc. Does it improve the translations?\n",
    "* Use hyper-parameter optimization from Tutorial #19 to automatically find the best hyper-parameters.\n",
    "* When translating texts, instead of using `np.argmax()` to sample the next integer-token, could you sample the decoder's output as if it was a probability distribution instead? Note that the decoder's output is not softmax-limited so you have to do that first to turn it into a probability-distribution.\n",
    "* Can you generate multiple sequences by doing this sampling? Can you find a way to select the best of these different sequences?\n",
    "* Disable the reversal of words for the source-language. Does it improve the translations?\n",
    "* What is a Bi-Directional GRU and can you use it here?\n",
    "* We use the **output** of the encoder's GRU as the initial state of the decoder's GRU. The research literature often uses an LSTM instead of the GRU, so they used the encoder's **state** instead of its output as the initial state of the decoder. Can you rewrite this code to use the encoder's state as the decoder's initial state? Is there a reason to do this, or is the encoder's output sufficient to use as the decoder's initial state?\n",
    "* Is it possible to connect multiple encoders and decoders in a single neural network, so that you can train it on different languages and allow for direct translation e.g. from Danish to Polish, German and French?\n",
    "* Explain to a friend how the program works."
   ]
  },
  {
   "cell_type": "markdown",
   "metadata": {},
   "source": [
    "## License (MIT)\n",
    "\n",
    "Copyright (c) 2018 by [Magnus Erik Hvass Pedersen](http://www.hvass-labs.org/)\n",
    "\n",
    "Permission is hereby granted, free of charge, to any person obtaining a copy of this software and associated documentation files (the \"Software\"), to deal in the Software without restriction, including without limitation the rights to use, copy, modify, merge, publish, distribute, sublicense, and/or sell copies of the Software, and to permit persons to whom the Software is furnished to do so, subject to the following conditions:\n",
    "\n",
    "The above copyright notice and this permission notice shall be included in all copies or substantial portions of the Software.\n",
    "\n",
    "THE SOFTWARE IS PROVIDED \"AS IS\", WITHOUT WARRANTY OF ANY KIND, EXPRESS OR IMPLIED, INCLUDING BUT NOT LIMITED TO THE WARRANTIES OF MERCHANTABILITY, FITNESS FOR A PARTICULAR PURPOSE AND NONINFRINGEMENT. IN NO EVENT SHALL THE AUTHORS OR COPYRIGHT HOLDERS BE LIABLE FOR ANY CLAIM, DAMAGES OR OTHER LIABILITY, WHETHER IN AN ACTION OF CONTRACT, TORT OR OTHERWISE, ARISING FROM, OUT OF OR IN CONNECTION WITH THE SOFTWARE OR THE USE OR OTHER DEALINGS IN THE SOFTWARE."
   ]
  }
 ],
 "metadata": {
  "anaconda-cloud": {},
  "kernelspec": {
   "display_name": "Python 3",
   "language": "python",
   "name": "python3"
  },
  "language_info": {
   "codemirror_mode": {
    "name": "ipython",
    "version": 3
   },
   "file_extension": ".py",
   "mimetype": "text/x-python",
   "name": "python",
   "nbconvert_exporter": "python",
   "pygments_lexer": "ipython3",
   "version": "3.7.4"
  }
 },
 "nbformat": 4,
 "nbformat_minor": 1
}
